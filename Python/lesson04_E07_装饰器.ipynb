{
 "cells": [
  {
   "cell_type": "markdown",
   "metadata": {},
   "source": [
    "# 定义\n",
    "- 装饰器是一种特殊的函数，它可以用来修改另一个函数的行为。\n",
    "\n",
    "- 装饰器的语法：接受一个函数作为参数，并返回一个修改后的函数。\n",
    "\n",
    "- 装饰器的作用是修改被装饰的函数的行为。\n",
    "\n",
    "- 装饰器的典型用法是为函数添加额外的功能，或者在函数调用前后执行额外的操作。\n",
    "\n",
    "下面是一个简单的装饰器的例子："
   ]
  },
  {
   "cell_type": "code",
   "execution_count": 25,
   "metadata": {},
   "outputs": [
    {
     "name": "stdout",
     "output_type": "stream",
     "text": [
      "Before calling the function\n",
      "Hello, world!\n",
      "After calling the function\n"
     ]
    }
   ],
   "source": [
    "def my_decorator(func):\n",
    "    def wrapper():\n",
    "        print(\"Before calling the function\")\n",
    "        func()\n",
    "        print(\"After calling the function\")\n",
    "\n",
    "    return wrapper\n",
    "\n",
    "\n",
    "@my_decorator\n",
    "def say_hello():\n",
    "    print(\"Hello, world!\")\n",
    "\n",
    "\n",
    "say_hello()"
   ]
  },
  {
   "cell_type": "markdown",
   "metadata": {},
   "source": [
    "## 传参"
   ]
  },
  {
   "cell_type": "code",
   "execution_count": 31,
   "metadata": {},
   "outputs": [
    {
     "name": "stdout",
     "output_type": "stream",
     "text": [
      "Before calling the function\n",
      "I am the function with args: 1, 2, 3\n",
      "After calling the function\n",
      "6\n",
      "Before calling the function\n",
      "I am the function with args: 1, 2, 1\n",
      "After calling the function\n",
      "4\n"
     ]
    }
   ],
   "source": [
    "def my_decorator(func):\n",
    "    def wrapper(*args, **kwargs):  # 接收任意参数\n",
    "        print(\"Before calling the function\")\n",
    "        result = func(*args, **kwargs)  # 调用原始函数\n",
    "        print(\"After calling the function\")\n",
    "        return result\n",
    "\n",
    "    return wrapper\n",
    "\n",
    "\n",
    "@my_decorator\n",
    "def my_function(a, b, c=1):\n",
    "    print(\"I am the function with args: {}, {}, {}\".format(a, b, c))\n",
    "    return a + b + c\n",
    "\n",
    "\n",
    "print(\n",
    "    my_function(1, 2, 3)\n",
    ")  # 输出：Before calling the function I am the function After calling the function 6\n",
    "print(\n",
    "    my_function(1, 2)\n",
    ")  # 输出：Before calling the function I am the function After calling the function 4"
   ]
  },
  {
   "cell_type": "markdown",
   "metadata": {},
   "source": [
    "## 一个函数被多个装饰器装饰"
   ]
  },
  {
   "cell_type": "code",
   "execution_count": 36,
   "metadata": {},
   "outputs": [
    {
     "name": "stdout",
     "output_type": "stream",
     "text": [
      "D1:Before calling\n",
      "D2:Before calling\n",
      "D2:After calling\n",
      "D1:After calling\n",
      "5\n"
     ]
    }
   ],
   "source": [
    "def d1(func):\n",
    "    def wrapper(*args, **kwargs):\n",
    "        print(\"D1:Before calling\")\n",
    "\n",
    "        result = func(*args, **kwargs)\n",
    "\n",
    "        print(\"D1:After calling\")\n",
    "\n",
    "        return result\n",
    "\n",
    "    return wrapper\n",
    "\n",
    "\n",
    "def d2(func):\n",
    "    def wrapper(*args, **kwargs):\n",
    "        print(\"D2:Before calling\")\n",
    "\n",
    "        result = func(*args, **kwargs)\n",
    "\n",
    "        print(\"D2:After calling\")\n",
    "\n",
    "        return result\n",
    "\n",
    "    return wrapper\n",
    "\n",
    "\n",
    "@d1\n",
    "@d2\n",
    "def my_function(x, y):\n",
    "    return x + y\n",
    "\n",
    "\n",
    "print(my_function(2, 3))"
   ]
  },
  {
   "cell_type": "markdown",
   "metadata": {},
   "source": [
    "## 带参数的装饰器"
   ]
  },
  {
   "cell_type": "code",
   "execution_count": 39,
   "metadata": {},
   "outputs": [
    {
     "name": "stdout",
     "output_type": "stream",
     "text": [
      "F1 calling\n",
      "my_function calling\n",
      "F2 calling\n",
      "5\n"
     ]
    }
   ],
   "source": [
    "def f1():\n",
    "    print(\"F1 calling\")\n",
    "\n",
    "\n",
    "def f2():\n",
    "    print(\"F2 calling\")\n",
    "\n",
    "\n",
    "def my_decorator(A, B):\n",
    "\n",
    "    def wrapper(func):\n",
    "        def wrapper1(*args, **kwargs):\n",
    "            f1()\n",
    "\n",
    "            result = func(*args, **kwargs)\n",
    "\n",
    "            f2()\n",
    "\n",
    "            return result\n",
    "\n",
    "        return wrapper1\n",
    "\n",
    "    return wrapper\n",
    "\n",
    "\n",
    "@my_decorator(1, 2)\n",
    "def my_function(x, y):\n",
    "    print(\"my_function calling\")\n",
    "    return x + y\n",
    "\n",
    "\n",
    "print(my_function(2, 3))"
   ]
  },
  {
   "cell_type": "markdown",
   "metadata": {},
   "source": [
    "## 总结：\n",
    "\n",
    "- 装饰器是一种高阶函数，它可以用来修改其他函数的行为，或者添加额外功能。\n",
    "\n",
    "- 类似于Java的Java 中的 注解（Annotations）或 代理模式（Proxy Pattern）\n",
    "\n",
    "- 类似于Spring中的 AOP"
   ]
  }
 ],
 "metadata": {
  "kernelspec": {
   "display_name": "Python 3",
   "language": "python",
   "name": "python3"
  },
  "language_info": {
   "codemirror_mode": {
    "name": "ipython",
    "version": 3
   },
   "file_extension": ".py",
   "mimetype": "text/x-python",
   "name": "python",
   "nbconvert_exporter": "python",
   "pygments_lexer": "ipython3",
   "version": "3.12.4"
  }
 },
 "nbformat": 4,
 "nbformat_minor": 2
}
