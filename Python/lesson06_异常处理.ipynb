{
 "cells": [
  {
   "cell_type": "markdown",
   "metadata": {},
   "source": [
    "# 基本语法\n",
    "```python\n",
    "try:\n",
    "    pass\n",
    "except Exception as ex:\n",
    "    pass\n",
    "```"
   ]
  },
  {
   "cell_type": "code",
   "execution_count": null,
   "metadata": {},
   "outputs": [],
   "source": [
    "import sys\n",
    "\n",
    "try:\n",
    "    f = open(\"lesson01_基础知识.ipynb\")\n",
    "    s = f.readline()\n",
    "    i = int(s.strip())\n",
    "    f.close()\n",
    "except OSError as err:\n",
    "    print(\"OS error: {0}\".format(err))\n",
    "except ValueError:\n",
    "    print(\"Could not convert data to an integer.\")\n",
    "except:\n",
    "    print(\"Unexpected error:\", sys.exc_info()[0])\n",
    "    raise\n",
    "else:\n",
    "    print(\"else 子句将在try子句没有发生任何异常的时候执行。\")\n",
    "finally:\n",
    "    print(\"无论try执行情况和except异常触发情况，finally子句都会被执行\")"
   ]
  },
  {
   "cell_type": "markdown",
   "metadata": {},
   "source": [
    "# 主动抛出异常：raise"
   ]
  },
  {
   "cell_type": "code",
   "execution_count": null,
   "metadata": {},
   "outputs": [],
   "source": [
    "sex = int(input(\"Please input a number: \"))\n",
    "\n",
    "try:\n",
    "    if sex == 1:\n",
    "        print(\"这是个男人！\")\n",
    "    elif sex == 0:\n",
    "        print(\"这是个女人！\")\n",
    "    else:\n",
    "        print(\"好像有什么不符合常理的事情发生了！！\")\n",
    "        raise ValueError(\"非法的输入\")\n",
    "except ValueError:\n",
    "    print(\"这是个人妖！\")"
   ]
  },
  {
   "cell_type": "markdown",
   "metadata": {},
   "source": [
    "# 常见异常类\n",
    "| 异常名 | 解释 |\n",
    "| --- | --- |\n",
    "| AttributeError | 试图访问一个对象没有的属性 |\n",
    "| IOError | 输入/输出异常 |\n",
    "| ImportError | 无法引入模块或包；多是路径问题或名称错误 |\n",
    "| IndentationError | 缩进错误 |\n",
    "| IndexError | 下标索引错误 |\n",
    "| KeyError | 试图访问不存在的键 |\n",
    "| KeyboardInterrupt | Ctrl+C被按下，键盘终止输入 |\n",
    "| NameError | 使用未定义的变量 |\n",
    "| SyntaxError | 语法错误 |\n",
    "| TypeError | 传入对象的类型与要求的不符合 |\n",
    "| UnboundLocalError | 试图访问一个还未被设置的局部变量 |\n",
    "| ValueError | 传入一个调用者不期望的值，即使值的类型是正确的 |\n",
    "| OSError | 操作系统执行错误 |\n",
    "\n",
    "# 自定义异常"
   ]
  },
  {
   "cell_type": "code",
   "execution_count": null,
   "metadata": {},
   "outputs": [],
   "source": [
    "class MyExcept(Exception):\n",
    "\n",
    "    def __init__(self, msg):\n",
    "        self.message = msg\n",
    "\n",
    "    def __str__(self):\n",
    "        return self.message\n",
    "\n",
    "\n",
    "try:\n",
    "    raise MyExcept(\"我的异常!\")\n",
    "except MyExcept as ex:\n",
    "    print(ex)"
   ]
  }
 ],
 "metadata": {
  "kernelspec": {
   "display_name": "Python 3",
   "language": "python",
   "name": "python3"
  },
  "language_info": {
   "codemirror_mode": {
    "name": "ipython",
    "version": 3
   },
   "file_extension": ".py",
   "mimetype": "text/x-python",
   "name": "python",
   "nbconvert_exporter": "python",
   "pygments_lexer": "ipython3",
   "version": "3.12.5"
  }
 },
 "nbformat": 4,
 "nbformat_minor": 2
}
