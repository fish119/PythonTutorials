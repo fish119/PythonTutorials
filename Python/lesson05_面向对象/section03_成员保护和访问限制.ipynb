{
 "cells": [
  {
   "cell_type": "markdown",
   "metadata": {},
   "source": [
    "# 成员保护和访问限制\n",
    "\n",
    "- java：private\n",
    "- python：在成员的名字前加上两个下划线__，这个成员就变成了一个私有成员（private）\n",
    "- 访问方式二者相同：get、set方法\n",
    "- **实际上python的私有成员可以通过：_类名__age（类名前是一个下划线） 方式访问**\n",
    "- **Python的私有成员和访问限制机制是“假”的，没有从语法层面彻底限制对私有成员的访问。这一点和常量的尴尬地位很相似**"
   ]
  },
  {
   "cell_type": "code",
   "execution_count": null,
   "metadata": {},
   "outputs": [],
   "source": [
    "class People:\n",
    "    def __init__(self, name, age):\n",
    "        self.__name = name\n",
    "        self.__age = age\n",
    "\n",
    "    def print_info(self):\n",
    "        print(\"Name:\", self.__name)\n",
    "        print(\"Age:\", self.__age)\n",
    "\n",
    "    def get_name(self):\n",
    "        return self.__name\n",
    "\n",
    "    def set_name(self, name):\n",
    "        self.__name = name\n",
    "\n",
    "    def get_age(self):\n",
    "        return self.__age\n",
    "\n",
    "    def set_age(self, age):\n",
    "        self.__age = age\n",
    "\n",
    "\n",
    "alice = People(\"Alice\", 25)\n",
    "alice.print_info()\n",
    "print(alice.get_name())\n",
    "print(alice.get_age())\n",
    "print(alice._People__name)  # 直接访问私有属性，但不推荐\n",
    "alice.__name  # 访问限制，读取和访问都会报错"
   ]
  },
  {
   "cell_type": "markdown",
   "metadata": {},
   "source": [
    "# 类的成员与下划线总结\n",
    "- _name、_name_、_name__:建议性的私有成员，不要在外部访问。\n",
    "- __name、 __name_ :强制的私有成员，但是你依然可以蛮横地在外部危险访问。\n",
    "- __name__:特殊成员，与私有性质无关，例如__doc__。\n",
    "- name_、name__:没有任何特殊性，普通的标识符，但最好不要这么起名。"
   ]
  }
 ],
 "metadata": {
  "kernelspec": {
   "display_name": "Python 3",
   "language": "python",
   "name": "python3"
  },
  "language_info": {
   "codemirror_mode": {
    "name": "ipython",
    "version": 3
   },
   "file_extension": ".py",
   "mimetype": "text/x-python",
   "name": "python",
   "nbconvert_exporter": "python",
   "pygments_lexer": "ipython3",
   "version": "3.12.5"
  }
 },
 "nbformat": 4,
 "nbformat_minor": 2
}
