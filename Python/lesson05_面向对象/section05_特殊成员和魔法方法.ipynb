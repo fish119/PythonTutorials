{
 "cells": [
  {
   "cell_type": "markdown",
   "metadata": {},
   "source": [
    "__init__ :      构造函数，在生成对象时调用\n",
    "__del__ :       析构函数，释放对象时使用\n",
    "__repr__ :      打印，转换\n",
    "__setitem__ :   按照索引赋值\n",
    "__getitem__:    按照索引获取值\n",
    "__len__:        获得长度\n",
    "__cmp__:        比较运算\n",
    "__call__:       调用\n",
    "__add__:        加运算\n",
    "__sub__:        减运算\n",
    "__mul__:        乘运算\n",
    "__div__:        除运算\n",
    "__mod__:        求余运算\n",
    "__pow__:        幂\n",
    "\n",
    "具体略"
   ]
  }
 ],
 "metadata": {
  "language_info": {
   "name": "python"
  }
 },
 "nbformat": 4,
 "nbformat_minor": 2
}
