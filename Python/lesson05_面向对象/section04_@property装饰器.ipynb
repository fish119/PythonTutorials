{
 "cells": [
  {
   "cell_type": "markdown",
   "metadata": {},
   "source": [
    "# @property装饰器\n",
    "\n",
    "## 作用\n",
    "把类的方法伪装成属性调用的方式\n",
    "\n",
    "## 语法\n",
    "- 首先，在普通方法的基础上添加@property装饰器，例如上面的age()方法。这相当于一个get方法，用于获取值,决定类似\"result = obj.age\"执行什么代码。该方法仅有一个self参数。\n",
    "\n",
    "- 写一个同名的方法，添加@xxx.setter装饰器（xxx表示和上面方法一样的名字），比如例子中的第二个方法。这相当于编写了一个set方法，提供赋值功能，决定类似\"obj.age = ....\"的语句执行什么代码。\n",
    "\n",
    "- 再写一个同名的方法，并添加@xxx.delete装饰器，比如例子中的第三个方法。用于删除功能，决定\"del obj.age \"这样的语句具体执行什么代码。\n",
    "\n",
    "- 简而言之，就是分别将三个方法定义为对同一个属性的获取、修改和删除。\n",
    "\n",
    "- 还可以定义只读属性，也就是只定义getter方法，不定义setter方法就是一个只读属性。"
   ]
  },
  {
   "cell_type": "code",
   "execution_count": null,
   "metadata": {},
   "outputs": [],
   "source": [
    "class People():\n",
    "    def __init__(self,name,age):\n",
    "        self.__name = name\n",
    "        self.__age = age\n",
    "\n",
    "    @property\n",
    "    def age(self):\n",
    "        return self.__age\n",
    "    \n",
    "    @age.setter\n",
    "    def age(self,age):\n",
    "        self.__age = age\n",
    "\n",
    "    @age.deleter\n",
    "    def age(self):\n",
    "        del self.__age\n",
    "        print(\"Age deleted\")\n",
    "\n",
    "p = People(\"Alice\",25)\n",
    "print(p.age)\n",
    "p.age = 30\n",
    "print(p.age)\n",
    "del p.age"
   ]
  },
  {
   "cell_type": "markdown",
   "metadata": {},
   "source": [
    "# property()函数\n",
    "除了使用装饰器的方式将一个方法伪装成属性外，Python内置的builtins模块中的property()函数，为我们提供了第二种设置类属性的手段。\n",
    "\n",
    "property()函数的参数：\n",
    "\n",
    "- 第一个参数是方法名，调用 实例.属性 时自动执行的方法\n",
    "- 第二个参数是方法名，调用 实例.属性 ＝ XXX时自动执行的方法\n",
    "- 第三个参数是方法名，调用 del 实例.属性 时自动执行的方法\n",
    "- 第四个参数是字符串，调用 实例.属性.__doc__时的描述信息。"
   ]
  },
  {
   "cell_type": "code",
   "execution_count": null,
   "metadata": {},
   "outputs": [],
   "source": [
    "class People:\n",
    "\n",
    "    def __init__(self, name, age):\n",
    "        self.__name = name\n",
    "        self.__age = age\n",
    "\n",
    "    def get_age(self):\n",
    "        return self.__age\n",
    "\n",
    "    def set_age(self, age):\n",
    "        if isinstance(age, int):\n",
    "            self.__age = age\n",
    "        else:\n",
    "            raise ValueError\n",
    "\n",
    "    def del_age(self):\n",
    "        del self.__age\n",
    "        print(\"删除年龄数据！\")\n",
    "\n",
    "    age = property(get_age,set_age,del_age, \"人类的年龄\")\n",
    "\n",
    "p = People(\"小明\", 20)\n",
    "print(p.age)"
   ]
  }
 ],
 "metadata": {
  "kernelspec": {
   "display_name": "Python 3",
   "language": "python",
   "name": "python3"
  },
  "language_info": {
   "codemirror_mode": {
    "name": "ipython",
    "version": 3
   },
   "file_extension": ".py",
   "mimetype": "text/x-python",
   "name": "python",
   "nbconvert_exporter": "python",
   "pygments_lexer": "ipython3",
   "version": "3.12.5"
  }
 },
 "nbformat": 4,
 "nbformat_minor": 2
}
