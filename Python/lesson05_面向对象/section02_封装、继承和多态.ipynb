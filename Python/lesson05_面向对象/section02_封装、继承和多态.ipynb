{
 "cells": [
  {
   "cell_type": "markdown",
   "metadata": {},
   "source": [
    "# 封装\n",
    "略\n",
    "\n",
    "# 继承\n",
    "\n",
    "## 单继承示例"
   ]
  },
  {
   "cell_type": "code",
   "execution_count": null,
   "metadata": {},
   "outputs": [],
   "source": [
    "# 定义父类\n",
    "class people:\n",
    "    def __init__(self, name, age,weight):\n",
    "        self.name = name\n",
    "        self.age = age\n",
    "        self.weight = weight\n",
    "\n",
    "    def speak(self):\n",
    "        print(\"我是人类，我叫{}，今年{}岁，体重{}公斤\".format(self.name, self.age, self.weight))\n",
    "\n",
    "\n",
    "# 定义子类\n",
    "class student(people):\n",
    "    def __init__(self, name, age, weight, grade):\n",
    "        super().__init__(name, age, weight)\n",
    "        self.grade = grade\n",
    "\n",
    "    def speak(self):\n",
    "        print(\"我是学生，我叫{}，今年{}岁，我在{}年级，我是{}班的学生\".format(self.name, self.age, self.grade, self.grade))\n",
    "\n",
    "s = student(\"小明\", 18, 60, 3)\n",
    "s.speak()"
   ]
  },
  {
   "cell_type": "markdown",
   "metadata": {},
   "source": [
    "## 多继承示例\n",
    "\n",
    "### Type 1\n",
    "<img src=\"https://img2020.cnblogs.com/blog/1762677/202010/1762677-20201007160547711-1040412043.png\" />"
   ]
  },
  {
   "cell_type": "code",
   "execution_count": null,
   "metadata": {},
   "outputs": [],
   "source": [
    "class D:\n",
    "    def show(self):\n",
    "        print(\"D show\")\n",
    "\n",
    "    def speak(self):\n",
    "        print(\"D speak\")\n",
    "\n",
    "\n",
    "class C(D):\n",
    "    pass\n",
    "\n",
    "\n",
    "class B(C):\n",
    "    pass\n",
    "\n",
    "\n",
    "class G:\n",
    "    def speak(self):\n",
    "        print(\"G speak\")\n",
    "\n",
    "\n",
    "class F(G):\n",
    "    pass\n",
    "\n",
    "\n",
    "class E(F):\n",
    "    pass\n",
    "\n",
    "\n",
    "class A(B, E):\n",
    "    pass\n",
    "\n",
    "\n",
    "a = A()\n",
    "a.show()\n",
    "a.speak()"
   ]
  },
  {
   "cell_type": "markdown",
   "metadata": {},
   "source": [
    "### Type 2\n",
    "<img src=\"https://img2020.cnblogs.com/blog/1762677/202010/1762677-20201007160554286-2105018291.png\" />"
   ]
  },
  {
   "cell_type": "code",
   "execution_count": null,
   "metadata": {},
   "outputs": [],
   "source": [
    "class H:\n",
    "    def show(self):\n",
    "        print(\"H show\")\n",
    "\n",
    "class D:\n",
    "    pass\n",
    "\n",
    "class C:\n",
    "    pass\n",
    "\n",
    "class B:\n",
    "    pass\n",
    "\n",
    "class G:\n",
    "    pass\n",
    "\n",
    "class F:\n",
    "    pass\n",
    "\n",
    "class E:\n",
    "    def show(self):\n",
    "        print(\"E show\")\n",
    "\n",
    "class A(B,E):\n",
    "    pass\n",
    "\n",
    "a = A()\n",
    "a.show()"
   ]
  },
  {
   "cell_type": "markdown",
   "metadata": {},
   "source": [
    "# 多态\n",
    "\n",
    "同一个方法在不同的对象中有不同的表现形式，即方法的行为会根据调用该方法的对象不同而不同。\n",
    "\n",
    "**动态语言调用实例方法时不检查类型，只要方法存在，参数正确，就可以调用。**\n",
    "\n",
    "**静态语言调用实例方法时需要检查类型，参数正确，才能调用。**"
   ]
  },
  {
   "cell_type": "code",
   "execution_count": null,
   "metadata": {},
   "outputs": [],
   "source": [
    "class Animal:\n",
    "    def kind(self):\n",
    "        print(\"Animal\")\n",
    "\n",
    "\n",
    "class Dog(Animal):\n",
    "    def kind(self):\n",
    "        print(\"Dog\")\n",
    "\n",
    "\n",
    "class Cat(Animal):\n",
    "    def kind(self):\n",
    "        print(\"Cat\")\n",
    "\n",
    "\n",
    "def show_kind(animal):\n",
    "    animal.kind()\n",
    "\n",
    "\n",
    "dog = Dog()\n",
    "cat = Cat()\n",
    "\n",
    "show_kind(dog)\n",
    "show_kind(cat)\n",
    "\n",
    "\n",
    "class Job:\n",
    "    def kind(self):\n",
    "        print(\"i am not animal, i am a job\")\n",
    "\n",
    "\n",
    "job = Job()\n",
    "\n",
    "# 与Java不同，由于Python的动态语言特性，传递给函数show_kind()的参数animal可以是 任何的类型，只要它有一个kind()的方法即可。\n",
    "show_kind(job)"
   ]
  }
 ],
 "metadata": {
  "kernelspec": {
   "display_name": "Python 3",
   "language": "python",
   "name": "python3"
  },
  "language_info": {
   "codemirror_mode": {
    "name": "ipython",
    "version": 3
   },
   "file_extension": ".py",
   "mimetype": "text/x-python",
   "name": "python",
   "nbconvert_exporter": "python",
   "pygments_lexer": "ipython3",
   "version": "3.12.5"
  }
 },
 "nbformat": 4,
 "nbformat_minor": 2
}
