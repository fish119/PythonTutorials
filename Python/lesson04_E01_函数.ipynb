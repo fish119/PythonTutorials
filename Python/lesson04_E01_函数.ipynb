{
 "cells": [
  {
   "cell_type": "markdown",
   "metadata": {},
   "source": [
    "# 函数基础\n",
    "\n",
    "## 定义函数\n",
    "  def 函数名(参数):\n",
    "      # 内部代码\n",
    "      return 表达式 \n",
    "\n",
    "在定义函数的过程中，需要注意以下几点：\n",
    "\n",
    "- 函数代码块以def关键词开头，一个空格之后接函数标识符名称和圆括号()，再接个冒号。\n",
    "- 任何传入的参数必须放在圆括号中间。\n",
    "- 函数的第一行语句后可以选择性地使用注释作为函数说明。\n",
    "- 函数内容以冒号起始，并且缩进。\n",
    "- 使用return结束函数。默认返回None。\n",
    "- return语句依然在函数体内部，不能回退缩进。直到函数的所有代码写完，才回退缩进，表示函数体结束。\n",
    "\n",
    "例如："
   ]
  },
  {
   "cell_type": "code",
   "execution_count": null,
   "metadata": {},
   "outputs": [],
   "source": [
    "def summer(lis):\n",
    "  \"\"\"\n",
    "  这里是函数的说明文档，doc的位置\n",
    "  :param lis: 参数列表的说明\n",
    "  :return: 返回值的说明\n",
    "  \"\"\"\n",
    "  total = 0\n",
    "  for i in lis:\n",
    "      total += i\n",
    "  return total"
   ]
  },
  {
   "cell_type": "markdown",
   "metadata": {},
   "source": [
    "## 函数调用\n",
    "要调用一个函数，必须使用函数名后跟圆括号的方式才能调用函数。调用的同时要根据函数的定义体，提供相应个数和类型的参数，每个参数之间用逗号分隔。\n",
    "\n",
    "**Python由于动态语言的特点，在做语法和词法分析检查的时候，并不会对参数类型进行检查，但在执行过程中，如果参数类型不符合函数内部运行机制的话，会弹出相应的错误**\n",
    "\n",
    "例："
   ]
  },
  {
   "cell_type": "code",
   "execution_count": null,
   "metadata": {},
   "outputs": [],
   "source": [
    "list1 = [1, 2, 3, 4, 5]\n",
    "summer(list1)"
   ]
  },
  {
   "cell_type": "markdown",
   "metadata": {},
   "source": [
    "## return语句\n",
    "- return语句用于表示函数执行到此结束，并且返回return后面的对象\n",
    "- 有时候，函数不需要返回任何值，此时可以不需要return语句，它在后台默认给你返回个None，并且不给任何提示\n",
    "- **一旦函数执行过程遇到return语句，那么之后函数体内的所有代码都会被忽略，直接跳出函数体。** 那怕你现在正在一个循环内。\n",
    "- 简而言之，函数可以return几乎任意Python对象。\n",
    "\n",
    "## 如何接收函数的返回值\n",
    "我们在调用函数的时候，可以将函数的返回值保存在变量中。\n",
    "\n",
    "而对于同时返回多个值的函数，需要相应个数的变量来接收，变量之间以逗号分隔：\n"
   ]
  },
  {
   "cell_type": "code",
   "execution_count": null,
   "metadata": {},
   "outputs": [],
   "source": [
    "def func():\n",
    "    pass\n",
    "    return \"something\"\n",
    "result = func()\n",
    "print(result)\n",
    "\n",
    "\n",
    "def func():\n",
    "    return 1, [2, 3], \"haha\"\n",
    "\n",
    "a, b, c = func()\n",
    "print(a,b,c)"
   ]
  },
  {
   "cell_type": "markdown",
   "metadata": {},
   "source": [
    "## 参数传递\n",
    "\n",
    "Python的函数参数传递的是实际对象的内存地址。\n",
    "\n",
    "Python的数据类型分可变数据类型和不可变数据类型。"
   ]
  },
  {
   "cell_type": "code",
   "execution_count": null,
   "metadata": {},
   "outputs": [],
   "source": [
    "# 参数未不可变数据类型\n",
    "print(\"参数未不可变数据类型\")\n",
    "a = 1\n",
    "def func(a):\n",
    "  print(\"在函数内部修改之前,变量a的内存地址为： %s\" % id(a))\n",
    "  a = 2\n",
    "  print(\"在函数内部修改之后,变量a的内存地址为： %s\" % id(a))\n",
    "  print(\"函数内部的a为： %s\" % a)\n",
    "\n",
    "print(\"调用函数之前,变量a的内存地址为： %s\" % id(a))\n",
    "func(a)\n",
    "print(\"函数外部的a为：%s\" % a)\n",
    "\n",
    "print(\"---------------------------------------------------------------------------------------------------\")\n",
    "\n",
    "# 参数为可变数据类型\n",
    "print(\"参数为可变数据类型\")\n",
    "a = [1, 2, 3]\n",
    "def func(a):\n",
    "  print(\"在函数内部修改之前,变量a的内存地址为： %s\" % id(a))\n",
    "  a[0] = 4 # 修改列表中的第一个元素,不同于“=”赋值语句，不会创建新的变量，而列表作为可变类型，可以直接修改,这个方法只是对列表的一种调用而已。因此，a还是原来的a对象\n",
    "  print(\"在函数内部修改之后,变量a的内存地址为： %s\" % id(a))\n",
    "  print(\"函数内部的a为： %s\" % a)\n",
    "\n",
    "\n",
    "print(\"调用函数之前,变量a的内存地址为： %s\" % id(a))\n",
    "func(a)\n",
    "print(\"函数外部的a为：%s\" % a)\n"
   ]
  },
  {
   "cell_type": "markdown",
   "metadata": {},
   "source": [
    "# 参数类型\n",
    "\n",
    "## 位置参数\n",
    "也叫必传参数，顺序参数，是最重要的，也是必须在调用函数时明确提供的参数！位置参数必须按先后顺序，一一对应，个数不多不少的传递！\n",
    "\n",
    "**注意: Python在做函数参数传递的时候不会对数据类型进行检查，理论上你传什么类型都可以！**"
   ]
  },
  {
   "cell_type": "code",
   "execution_count": null,
   "metadata": {},
   "outputs": [],
   "source": [
    "def add(a, b, c):\n",
    "    return a+b+c\n",
    "\n",
    "result = add(\"haha\", 2,  3)"
   ]
  },
  {
   "cell_type": "markdown",
   "metadata": {},
   "source": [
    "## 默认参数\n",
    "在函数定义时，如果给某个参数提供一个默认值，这个参数就变成了默认参数，不再是位置参数了。在调用函数的时候，我们可以给默认参数传递一个自定义的值，也可以使用默认值。\n",
    "**默认参数必须在位置参数后面！如果你违反了这点，在语法层面直接是通不过的**\n",
    "当有多个默认参数的时候，通常将更常用的放在前面，变化较少的放后面。\n",
    "**默认参数尽量指向不变的对象**"
   ]
  },
  {
   "cell_type": "code",
   "execution_count": null,
   "metadata": {},
   "outputs": [],
   "source": [
    "def power(x, n = 2):\n",
    "    return x*n\n",
    "\n",
    "print(power(10))   # 使用默认的参数值n=2\n",
    "print(power(10, 4))  # 将4传给n，实际计算10*4的值\n",
    "\n",
    "# 当有多个默认参数的时候，通常将更常用的放在前面，变化较少的放后面\n",
    "def student(name, sex, age, classroom=\"101\", tel=\"88880000\", address=\"...\"):\n",
    "    print(\"function student\")\n",
    "    pass\n",
    "\n",
    "# 在调用函数的时候，尽量给实际参数提供默认参数名\n",
    "student(name='mary',sex='female',age = 18,classroom='102',tel='666666')\n",
    "#student('mary','female',18,tel='666666','beijing')   #  这是错误的参数传递方式\n",
    "\n",
    "# 默认参数尽量指向不变的对象\n",
    "def func(a=[]):\n",
    "    a.append(\"A\")\n",
    "    return a\n",
    "\n",
    "print(func())\n",
    "print(func())\n",
    "print(func())\n",
    "\n",
    "# 对于可变对象，默认参数必须指向None，否则每次调用函数都会共享同一个对象\n",
    "def func(a=None):\n",
    "    if a is None:\n",
    "        a = []\n",
    "    a.append(\"A\")\n",
    "    return a\n",
    "\n",
    "print(func())\n",
    "print(func())\n",
    "print(func())"
   ]
  },
  {
   "cell_type": "markdown",
   "metadata": {},
   "source": [
    "## 动态参数\n",
    "顾名思义，动态参数就是传入的参数的个数是动态的，可以是1个、2个到任意个，还可以是0个。在不需要的时候，你完全可以忽略动态函数，不用给它传递任何值。\n",
    "\n",
    "### *args\n",
    "比如，我们可以定义一个函数，它可以计算任意数量的数字的和：\n"
   ]
  },
  {
   "cell_type": "code",
   "execution_count": null,
   "metadata": {},
   "outputs": [],
   "source": [
    "def add_numbers(*args):\n",
    "    result = 0\n",
    "    for num in args:\n",
    "        result += num\n",
    "    return result\n",
    "\n",
    "print(add_numbers(1, 2, 3, 4, 5))"
   ]
  },
  {
   "cell_type": "markdown",
   "metadata": {},
   "source": [
    "### **kwargs\n",
    "两个星表示接受键值对的动态参数，数量任意。调用的时候会将实际参数打包成字典。例如："
   ]
  },
  {
   "cell_type": "code",
   "execution_count": null,
   "metadata": {},
   "outputs": [],
   "source": [
    "def my_func(**kwargs):\n",
    "    print(kwargs)\n",
    "\n",
    "my_func(name='Alice', age=20, city='Beijing')"
   ]
  },
  {
   "cell_type": "markdown",
   "metadata": {},
   "source": [
    "### “万能”参数\n",
    "当 *args 和  **kwargs 组合起来使用，理论上能接受任何形式和任意数量的参数，在很多代码中我们都能见到这种定义方式。\n",
    "\n",
    "**需要注意的是，*args必须出现在  **kwargs 之前**"
   ]
  },
  {
   "cell_type": "code",
   "execution_count": null,
   "metadata": {},
   "outputs": [],
   "source": [
    "def func(a, b, c, *args, **kwargs):\n",
    "  print(a, b, c)\n",
    "  for arg in args:\n",
    "    print(arg)\n",
    "\n",
    "  for kwg in kwargs:\n",
    "    print(kwg, kwargs[kwg])\n",
    "\n",
    "\n",
    "lis = ['aaa', 'bbb', 'ccc']\n",
    "dic = {\n",
    "  'k1': 'v1',\n",
    "  'k2': 'v2'\n",
    "}\n",
    "\n",
    "func(1, 2, 3,*lis, **dic)"
   ]
  },
  {
   "cell_type": "markdown",
   "metadata": {},
   "source": [
    "### 关键字参数\n",
    "关键字参数前面需要一个特殊分隔符 * 和位置参数及默认参数分隔开来，*后面的参数被视为关键字参数。\n",
    "\n",
    "在函数调用时，关键字参数必须传入参数名，这和位置参数不同。如果没有传入参数名，调用将报错。\n",
    "\n",
    "不同于默认参数，关键字参数必须传递，但是关键字参数也可以有缺省值，这时就可以不传递了，从而简化调用。"
   ]
  },
  {
   "cell_type": "code",
   "execution_count": null,
   "metadata": {},
   "outputs": [],
   "source": [
    "def student(name, age, *, sex):\n",
    "    pass\n",
    "\n",
    "student(name=\"jack\", age=18, sex='male')\n",
    "\n",
    "# 如果函数定义中已经有了一个*args参数，后面跟着的命名关键字参数就不再需要一个特殊分隔符*了。\n",
    "\n",
    "def student(name, age=10, *args, sex, classroom, **kwargs):\n",
    "    print(name,age,sex,classroom,args,kwargs)\n",
    "\n",
    "student(name=\"jack\", age=18, sex='male', classroom=\"202\", k1=\"v1\")"
   ]
  }
 ],
 "metadata": {
  "kernelspec": {
   "display_name": "Python 3",
   "language": "python",
   "name": "python3"
  },
  "language_info": {
   "codemirror_mode": {
    "name": "ipython",
    "version": 3
   },
   "file_extension": ".py",
   "mimetype": "text/x-python",
   "name": "python",
   "nbconvert_exporter": "python",
   "pygments_lexer": "ipython3",
   "version": "3.12.4"
  }
 },
 "nbformat": 4,
 "nbformat_minor": 2
}
