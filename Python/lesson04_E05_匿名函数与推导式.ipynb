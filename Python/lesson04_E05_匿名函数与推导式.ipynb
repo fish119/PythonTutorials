{
 "cells": [
  {
   "cell_type": "markdown",
   "metadata": {},
   "source": [
    "# 匿名函数（lambda表达式）\n",
    "\n",
    "## 定义\n",
    "\n",
    "所谓匿名，即不再使用def语句这样标准的形式定义一个函数，\n",
    "\n",
    "而是直接使用lambda表达式来定义一个函数。\n",
    "\n",
    "## 形式\n",
    "形式通常是这样的：lambda 参数: 表达式\n",
    "\n",
    "关键字lambda表示匿名函数，冒号前面的x表示函数参数，x*x是执行代码。\n",
    "\n",
    "例如：lambda x: x * x。它相当于下面的函数：\n",
    "\n",
    "```python\n",
    "def square(x):\n",
    "    return x * x\n",
    "```\n",
    "\n",
    "也可以把匿名函数作为别的函数的返回值返回。"
   ]
  },
  {
   "cell_type": "code",
   "execution_count": null,
   "metadata": {},
   "outputs": [],
   "source": [
    "def add(string, i):\n",
    "    return lambda: int(string) + i\n",
    "\n",
    "add_10 = add(\"10\", 10)\n",
    "print(add_10())  # Output: 20"
   ]
  },
  {
   "cell_type": "markdown",
   "metadata": {},
   "source": [
    "# 推导式\n",
    "\n",
    "##  1. 列表推导式"
   ]
  },
  {
   "cell_type": "code",
   "execution_count": null,
   "metadata": {},
   "outputs": [],
   "source": [
    "lis = [x * x for x in range(1, 10)]\n",
    "\n",
    "print(lis)\n",
    "\n",
    "# 增加条件语句\n",
    "[x * x for x in range(1, 11) if x % 2 == 0]\n",
    "\n",
    "# 多重循环\n",
    "[a + b for a in '123' for b in 'abc']\n",
    "\n",
    "# 更多用法\n",
    "dic = {\"k1\":\"v1\",\"k2\":\"v2\"}\n",
    "a = [k+\":\"+v for k,v in dic.items()]\n"
   ]
  },
  {
   "cell_type": "markdown",
   "metadata": {},
   "source": [
    "# 2. 字典推导式"
   ]
  },
  {
   "cell_type": "code",
   "execution_count": null,
   "metadata": {},
   "outputs": [],
   "source": [
    "dic = {x: x**2 for x in (2, 4, 6)}\n",
    "print(dic)"
   ]
  },
  {
   "cell_type": "markdown",
   "metadata": {},
   "source": [
    "# 3. 集合推导式"
   ]
  },
  {
   "cell_type": "code",
   "execution_count": null,
   "metadata": {},
   "outputs": [],
   "source": [
    "a = {x for x in 'abracadabra' if x not in 'abc'}\n",
    "print(a)"
   ]
  },
  {
   "cell_type": "markdown",
   "metadata": {},
   "source": [
    "# 4. 元组推导式？\n",
    "圆括号在Python中被用作生成器的语法了\n",
    "\n",
    "要通过类似方法生成元组，需要显式调用元组的类型转换函数tuple()"
   ]
  },
  {
   "cell_type": "code",
   "execution_count": null,
   "metadata": {},
   "outputs": [],
   "source": [
    "tup = tuple(x for x in range(9))\n",
    "print(tup)"
   ]
  }
 ],
 "metadata": {
  "kernelspec": {
   "display_name": "Python 3",
   "language": "python",
   "name": "python3"
  },
  "language_info": {
   "codemirror_mode": {
    "name": "ipython",
    "version": 3
   },
   "file_extension": ".py",
   "mimetype": "text/x-python",
   "name": "python",
   "nbconvert_exporter": "python",
   "pygments_lexer": "ipython3",
   "version": "3.12.4"
  }
 },
 "nbformat": 4,
 "nbformat_minor": 2
}
