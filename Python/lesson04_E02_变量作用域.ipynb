{
 "cells": [
  {
   "cell_type": "markdown",
   "metadata": {},
   "source": [
    "# 概述\n",
    "## 定义\n",
    "变量作用域是指变量在程序中的可访问范围。Python中有全局作用域和局部作用域两种。\n",
    "\n",
    "**Python中，没有块级作用域，也就是类似if语句块、for语句块、with上下文管理器等等是不存在作用域概念的，他们等同于普通的语句。**\n",
    "\n",
    "## 分层\n",
    "\n",
    "Python的作用域一共有4层\n",
    "\n",
    "- L （Local） 局部作用域\n",
    "- E （Enclosing） 闭包函数外的函数中\n",
    "- G （Global） 全局作用域\n",
    "- B （Built-in） 内建作用域\n",
    "\n",
    "Python以L –> E –> G –>B的规则查找变量\n",
    "\n",
    "## 全局变量和局部变量\n",
    "\n",
    "全局变量是指在函数体外定义的变量，它可以在整个程序的任何位置访问。\n",
    "\n",
    "局部变量是指在函数体内定义的变量，它只能在函数体内访问。"
   ]
  },
  {
   "cell_type": "code",
   "execution_count": null,
   "metadata": {},
   "outputs": [],
   "source": [
    "a = 1            # 全局变量\n",
    "\n",
    "def func():\n",
    "  b = 2         # 局部变量\n",
    "  print(a)      # 可访问全局变量a,无法访问它内部的c\n",
    "\n",
    "  def inner():\n",
    "    c = 3      # 更局部的变量\n",
    "    print(a)   # 可以访问全局变量a\n",
    "    print(b)   # b对于inner函数来说，就是外部变量\n",
    "    print(c)"
   ]
  },
  {
   "cell_type": "markdown",
   "metadata": {},
   "source": [
    "## global和nonlocal关键字\n",
    "\n",
    "global：指定当前变量使用外部的全局变量\n",
    "\n",
    "nonlocal：指定当前变量使用外部的嵌套作用域中的变量"
   ]
  },
  {
   "cell_type": "code",
   "execution_count": null,
   "metadata": {},
   "outputs": [],
   "source": [
    "# global 关键字的作用\n",
    "a = 1\n",
    "print(\"1.函数outer调用之前全局变量a的内存地址： \", id(a))\n",
    "def outer():\n",
    "  a = 2\n",
    "  print(\"2.函数outer调用之时闭包外部的变量a的内存地址： \", id(a))\n",
    "  def inner():\n",
    "    global a   # 注意这行\n",
    "    a = 3\n",
    "    print(\"3.函数inner调用之后闭包内部变量a的内存地址： \", id(a))\n",
    "  inner()\n",
    "  print(\"4.函数inner调用之后，闭包外部的变量a的内存地址： \", id(a))\n",
    "outer()\n",
    "print(\"5.函数outer执行完毕，全局变量a的内存地址： \", id(a))\n",
    "\n",
    "# nonlocal 关键字的作用\n",
    "def outer():\n",
    "  a = 1\n",
    "  def inner():\n",
    "    nonlocal a   # 注意这行\n",
    "    a = 2\n",
    "    print(\"inner: \", a)\n",
    "  inner()\n",
    "  print(\"outer: \", a)\n",
    "outer()  # 输出：inner: 2 outer: 1\n"
   ]
  },
  {
   "cell_type": "markdown",
   "metadata": {},
   "source": [
    "**Python函数的作用域取决于其函数代码块在整体代码中的位置，而不是调用时机的位置**"
   ]
  },
  {
   "cell_type": "code",
   "execution_count": null,
   "metadata": {},
   "outputs": [],
   "source": [
    "name ='jack'\n",
    "\n",
    "def f1():\n",
    "    print(name)\n",
    "\n",
    "def f2():\n",
    "    name = 'eric'\n",
    "    f1()\n",
    "\n",
    "f2()"
   ]
  }
 ],
 "metadata": {
  "kernelspec": {
   "display_name": "Python 3",
   "language": "python",
   "name": "python3"
  },
  "language_info": {
   "codemirror_mode": {
    "name": "ipython",
    "version": 3
   },
   "file_extension": ".py",
   "mimetype": "text/x-python",
   "name": "python",
   "nbconvert_exporter": "python",
   "pygments_lexer": "ipython3",
   "version": "3.12.4"
  }
 },
 "nbformat": 4,
 "nbformat_minor": 2
}
