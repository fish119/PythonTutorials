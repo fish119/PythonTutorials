{
 "cells": [
  {
   "cell_type": "markdown",
   "metadata": {},
   "source": [
    "# 迭代器\n",
    "\n",
    "## 定义\n",
    "\n",
    "- 迭代器是一种可以被遍历的对象，并且能作用于next()函数。\n",
    "\n",
    "- 迭代器对象从集合的第一个元素开始访问，直到所有的元素被访问完结束。\n",
    "\n",
    "- 迭代器只能往后遍历不能回溯。\n",
    "\n",
    "- 迭代器通常要实现两个基本的方法：iter() 和 next()。很多时候，为了让我们自己写的类成为一个迭代器，需要在类里实现__iter__()和__next__()方法。\n",
    "\n",
    "- 字符串，列表或元组对象，甚至自定义对象都可用于创建迭代器："
   ]
  },
  {
   "cell_type": "code",
   "execution_count": null,
   "metadata": {},
   "outputs": [],
   "source": [
    "lis = [1, 2, 3, 4]\n",
    "it = iter(lis)\n",
    "next(it)\n",
    "next(it)"
   ]
  },
  {
   "cell_type": "markdown",
   "metadata": {},
   "source": [
    "## 总结\n",
    "\n",
    "- 迭代器表示的是一个元素流，可以被next()函数调用并不断返回下一个元素，直到没有元素时抛出StopIteration错误。\n",
    "\n",
    "- 可以把这个元素流看做是一个有序序列，但却不能提前知道序列的长度，只能不断通过next()函数得到下一个元素，所以迭代器可以节省内存和空间。"
   ]
  },
  {
   "cell_type": "markdown",
   "metadata": {},
   "source": [
    "## 迭代器(Iterator)和可迭代(Iterable)的区别\n",
    "\n",
    "- 凡是可作用于for循环的对象都是可迭代类型；\n",
    "\n",
    "- 凡是可作用于next()函数的对象都是迭代器类型；\n",
    "\n",
    "- list、dict、str等是可迭代的但不是迭代器，因为next()函数无法调用它们。可以通过iter()函数将它们转换成迭代器。\n",
    "\n",
    "- Python的for循环本质上就是通过不断调用next()函数实现的。"
   ]
  },
  {
   "cell_type": "markdown",
   "metadata": {},
   "source": [
    "# 生成器\n",
    "\n",
    "## 定义\n",
    "\n",
    "- 生成器是一种特殊的迭代器，它可以生成一系列值，但不必一次性生成所有值。\n",
    "\n",
    "- 如序列或集合内的元素的个数非常巨大时，可以在循环的过程中不断推算出后续的元素，而不必创建完整的元素集合，从而节省大量的空间。\n",
    "\n",
    "生成器函数使用 `yield` 关键字来返回一个值，而不是 `return` 关键字。当函数执行到 `yield` 关键字时，函数会暂停并保存当前的运行状态，并返回 `yield` 后面的值。当函数再次被调用时，它会从上次停止的地方继续执行，并从上次返回的 `yield` 值开始生成值。"
   ]
  },
  {
   "cell_type": "code",
   "execution_count": null,
   "metadata": {},
   "outputs": [],
   "source": [
    "# 前面我们说过，通过圆括号可以编写生成器推导式：\n",
    "g = (x**2 for x in range(10))\n",
    "g\n",
    "\n",
    "# 可以通过next()函数获得generator的下一个返回值，这点和迭代器非常相似：\n",
    "next(g)\n",
    "\n",
    "# 但更多情况下，我们使用for循环，这点和迭代器也非常相似：\n",
    "for x in g:\n",
    "    print(x)"
   ]
  },
  {
   "cell_type": "markdown",
   "metadata": {},
   "source": [
    "## yield关键字的使用\n",
    "\n",
    "- yield关键字在函数中是一个特殊的关键字，它可以暂停函数的执行，并返回一个值。\n",
    "\n",
    "- 当函数中包含yield关键字时，函数就变成了一个生成器函数。\n",
    "\n",
    "- 生成器函数在每次调用next()方法时执行，遇到yield关键字返回值，并保留当前的运行状态，\n",
    "\n",
    "- 并在下一次执行next()方法时从当前位置继续运行。"
   ]
  },
  {
   "cell_type": "code",
   "execution_count": null,
   "metadata": {},
   "outputs": [],
   "source": [
    "# yield example\n",
    "def my_generator(n):\n",
    "    for i in range(n):\n",
    "        if i * i > n:\n",
    "            return\n",
    "        yield i * i\n",
    "\n",
    "\n",
    "mg = my_generator(10)\n",
    "print(next(mg))\n",
    "print(next(mg))\n",
    "print(next(mg))\n",
    "print(next(mg))"
   ]
  },
  {
   "cell_type": "code",
   "execution_count": null,
   "metadata": {},
   "outputs": [],
   "source": [
    "# 斐波那契函数\n",
    "def fibonacci(n):\n",
    "    a, b, counter = 0, 1, 0\n",
    "    while True:\n",
    "        if counter > n:\n",
    "            return\n",
    "        yield a  # yield让该函数变成一个生成器\n",
    "        a, b = b, a + b\n",
    "        counter += 1\n",
    "\n",
    "\n",
    "fib = fibonacci(10)  # fib是一个生成器\n",
    "\n",
    "for i in fib:\n",
    "    print(i, end=\" \")"
   ]
  },
  {
   "cell_type": "markdown",
   "metadata": {},
   "source": [
    "## 总结\n",
    "\n",
    "1. 迭代器与生成器\n",
    "\n",
    "- 迭代器与生成器是Python中两个重要的概念。\n",
    "\n",
    "- 迭代器是一个可以记住遍历的位置的对象，它可以遍历序列的元素，但只能往前不会后退。\n",
    "\n",
    "- 生成器是一个返回迭代器的函数，只能用于迭代操作，更简单点理解生成器就是一个迭代器。\n",
    "\n",
    "2. 迭代器与生成器的区别\n",
    "\n",
    "- 迭代器是一个可以记住遍历的位置的对象，它可以遍历序列的元素，但只能往前不会后退。\n",
    "\n",
    "- 生成器是一个返回迭代器的函数，只能用于迭代操作，更简单点理解生成器就是一个迭代器。\n",
    "\n",
    "- 区别：\n",
    "\n",
    "    1）迭代器是一次性的，只能遍历一次，而生成器是可以迭代多次的。\n",
    "    \n",
    "        2）迭代器只能用于一次性遍历，而生成器可以用于迭代多次。\n",
    "    \n",
    "        3）迭代器只能遍历集合，而生成器可以生成任意值。\n",
    "    \n",
    "        4）迭代器只能使用for循环，而生成器可以使用next()方法。\n",
    "    \n",
    "        5）迭代器的效率比生成器高。"
   ]
  }
 ],
 "metadata": {
  "kernelspec": {
   "display_name": "Python 3",
   "language": "python",
   "name": "python3"
  },
  "language_info": {
   "codemirror_mode": {
    "name": "ipython",
    "version": 3
   },
   "file_extension": ".py",
   "mimetype": "text/x-python",
   "name": "python",
   "nbconvert_exporter": "python",
   "pygments_lexer": "ipython3",
   "version": "3.12.4"
  }
 },
 "nbformat": 4,
 "nbformat_minor": 2
}
