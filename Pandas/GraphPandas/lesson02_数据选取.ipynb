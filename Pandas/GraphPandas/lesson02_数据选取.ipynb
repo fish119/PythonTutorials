{
 "cells": [
  {
   "cell_type": "code",
   "execution_count": null,
   "metadata": {},
   "outputs": [],
   "source": [
    "import pandas as pd\n",
    "\n",
    "dates = pd.date_range(\"20130101\", periods=6)\n",
    "\n",
    "df = pd.DataFrame(\n",
    "    {\n",
    "        \"A\": [0.342275, -0.010251, -0.344072, -0.235446, 3.074955, -0.039975],\n",
    "        \"B\": [-0.333060, -0.322083, -1.185725, -1.721794, 1.848873, 1.090794],\n",
    "        \"C\": [-0.333060, -0.716058, 0.242253, -1.721794, 1.848873, -0.960891],\n",
    "        \"D\": [1.808311, -0.960891, -0.716058, 0.242253, -0.795627, -1.111459],\n",
    "    },\n",
    "    index=dates,\n",
    ")\n",
    "df"
   ]
  },
  {
   "cell_type": "markdown",
   "metadata": {},
   "source": [
    "# 数据选取\n",
    "\n",
    "官方建议使用优化的熊猫数据访问方法.at，.iat，.loc和.iloc\n",
    "\n",
    "## 使用[]选取数据\n",
    "\n",
    "使用[]选取数据时，如果索引不存在，会报错。\n",
    "\n",
    "### 选取单列数据:"
   ]
  },
  {
   "cell_type": "code",
   "execution_count": null,
   "metadata": {},
   "outputs": [],
   "source": [
    "df[\"A\"]  # 等效于df.A"
   ]
  },
  {
   "cell_type": "markdown",
   "metadata": {},
   "source": [
    "### 按行选取数据\n",
    "\n",
    "- 使用[行号:行号] 左闭右开的形式，左边是起始行号，右边是结束行号，不包括右边的行号。\n",
    "- 按行选取数据,使用index的值进行选取，['index':index] 左开右闭区间\n"
   ]
  },
  {
   "cell_type": "code",
   "execution_count": null,
   "metadata": {},
   "outputs": [],
   "source": [
    "df[\n",
    "    1:799\n",
    "]  # 使用[行号:行号] 左闭右开的形式，左边是起始行号，右边是结束行号，不包括右边的行号。"
   ]
  },
  {
   "cell_type": "code",
   "execution_count": null,
   "metadata": {},
   "outputs": [],
   "source": [
    "df[\n",
    "    \"20130104\":\"20130110\"\n",
    "]  # 按行选取数据,使用index的值进行选取，['index':index] 左开右闭区间"
   ]
  },
  {
   "cell_type": "markdown",
   "metadata": {},
   "source": [
    "## 通过标签(行标签index,列名column)选取数据\n",
    "\n",
    "#### 通过行标签即index选取数据"
   ]
  },
  {
   "cell_type": "code",
   "execution_count": null,
   "metadata": {},
   "outputs": [],
   "source": [
    "df.loc[dates[5]]"
   ]
  },
  {
   "cell_type": "markdown",
   "metadata": {},
   "source": [
    "#### 通过列标签即列名选取数据"
   ]
  },
  {
   "cell_type": "code",
   "execution_count": null,
   "metadata": {},
   "outputs": [],
   "source": [
    "df.loc[:, [\"A\", \"B\"]]"
   ]
  },
  {
   "cell_type": "markdown",
   "metadata": {},
   "source": [
    "#### 通过行列标签选取数据"
   ]
  },
  {
   "cell_type": "code",
   "execution_count": null,
   "metadata": {},
   "outputs": [],
   "source": [
    "df.loc[dates[1] : dates[3], [\"A\", \"C\"]]"
   ]
  },
  {
   "cell_type": "code",
   "execution_count": null,
   "metadata": {},
   "outputs": [],
   "source": [
    "# loc：选取一行一列（即一个单元格）的数据：取出行标签（index）为dates[0]的A列的值\n",
    "df.loc[dates[3], \"A\"]"
   ]
  },
  {
   "cell_type": "code",
   "execution_count": null,
   "metadata": {},
   "outputs": [],
   "source": [
    "# at：选取一行一列（即一个单元格）的数据：取出行标签（index）为dates[0]的A列的值\n",
    "df.at[dates[3], \"A\"]"
   ]
  },
  {
   "cell_type": "markdown",
   "metadata": {},
   "source": [
    "## 通过位置选取数据iloc"
   ]
  },
  {
   "cell_type": "code",
   "execution_count": null,
   "metadata": {},
   "outputs": [],
   "source": [
    "df.iloc[3]  # 第4行数据"
   ]
  },
  {
   "cell_type": "code",
   "execution_count": null,
   "metadata": {},
   "outputs": [],
   "source": [
    "df.iloc[3:5, 0:2]  # 选择第4行到第6行，第1列到第3列"
   ]
  },
  {
   "cell_type": "code",
   "execution_count": null,
   "metadata": {},
   "outputs": [],
   "source": [
    "df.iloc[[1, 2, 4], [0, 2]]  # 取出第2、3、5行，第1列和第3列的数据"
   ]
  },
  {
   "cell_type": "code",
   "execution_count": null,
   "metadata": {},
   "outputs": [],
   "source": [
    "df.iloc[1:3]    # 选取第2行到第3行的数据"
   ]
  },
  {
   "cell_type": "code",
   "execution_count": null,
   "metadata": {},
   "outputs": [],
   "source": [
    "df.iloc[1, 1]  # 取第2行第2列的值"
   ]
  },
  {
   "cell_type": "markdown",
   "metadata": {},
   "source": [
    "## 使用布尔索引选取数据"
   ]
  },
  {
   "cell_type": "code",
   "execution_count": null,
   "metadata": {},
   "outputs": [],
   "source": [
    "df[df.A>0]  # 选择A列大于0的行"
   ]
  },
  {
   "cell_type": "code",
   "execution_count": null,
   "metadata": {},
   "outputs": [],
   "source": [
    "df[df > 0]  # 选择大于0的元素，如果数据中有非数字元素，则会报错"
   ]
  },
  {
   "cell_type": "code",
   "execution_count": 37,
   "metadata": {},
   "outputs": [
    {
     "data": {
      "text/html": [
       "<div>\n",
       "<style scoped>\n",
       "    .dataframe tbody tr th:only-of-type {\n",
       "        vertical-align: middle;\n",
       "    }\n",
       "\n",
       "    .dataframe tbody tr th {\n",
       "        vertical-align: top;\n",
       "    }\n",
       "\n",
       "    .dataframe thead th {\n",
       "        text-align: right;\n",
       "    }\n",
       "</style>\n",
       "<table border=\"1\" class=\"dataframe\">\n",
       "  <thead>\n",
       "    <tr style=\"text-align: right;\">\n",
       "      <th></th>\n",
       "      <th>A</th>\n",
       "      <th>B</th>\n",
       "      <th>C</th>\n",
       "      <th>D</th>\n",
       "      <th>E</th>\n",
       "    </tr>\n",
       "  </thead>\n",
       "  <tbody>\n",
       "    <tr>\n",
       "      <th>2013-01-01</th>\n",
       "      <td>0.342275</td>\n",
       "      <td>-0.333060</td>\n",
       "      <td>-0.333060</td>\n",
       "      <td>1.808311</td>\n",
       "      <td>one</td>\n",
       "    </tr>\n",
       "    <tr>\n",
       "      <th>2013-01-02</th>\n",
       "      <td>-0.010251</td>\n",
       "      <td>-0.322083</td>\n",
       "      <td>-0.716058</td>\n",
       "      <td>-0.960891</td>\n",
       "      <td>one</td>\n",
       "    </tr>\n",
       "    <tr>\n",
       "      <th>2013-01-03</th>\n",
       "      <td>-0.344072</td>\n",
       "      <td>-1.185725</td>\n",
       "      <td>0.242253</td>\n",
       "      <td>-0.716058</td>\n",
       "      <td>two</td>\n",
       "    </tr>\n",
       "    <tr>\n",
       "      <th>2013-01-04</th>\n",
       "      <td>-0.235446</td>\n",
       "      <td>-1.721794</td>\n",
       "      <td>-1.721794</td>\n",
       "      <td>0.242253</td>\n",
       "      <td>three</td>\n",
       "    </tr>\n",
       "    <tr>\n",
       "      <th>2013-01-05</th>\n",
       "      <td>3.074955</td>\n",
       "      <td>1.848873</td>\n",
       "      <td>1.848873</td>\n",
       "      <td>-0.795627</td>\n",
       "      <td>four</td>\n",
       "    </tr>\n",
       "    <tr>\n",
       "      <th>2013-01-06</th>\n",
       "      <td>-0.039975</td>\n",
       "      <td>1.090794</td>\n",
       "      <td>-0.960891</td>\n",
       "      <td>-1.111459</td>\n",
       "      <td>three</td>\n",
       "    </tr>\n",
       "  </tbody>\n",
       "</table>\n",
       "</div>"
      ],
      "text/plain": [
       "                   A         B         C         D      E\n",
       "2013-01-01  0.342275 -0.333060 -0.333060  1.808311    one\n",
       "2013-01-02 -0.010251 -0.322083 -0.716058 -0.960891    one\n",
       "2013-01-03 -0.344072 -1.185725  0.242253 -0.716058    two\n",
       "2013-01-04 -0.235446 -1.721794 -1.721794  0.242253  three\n",
       "2013-01-05  3.074955  1.848873  1.848873 -0.795627   four\n",
       "2013-01-06 -0.039975  1.090794 -0.960891 -1.111459  three"
      ]
     },
     "execution_count": 37,
     "metadata": {},
     "output_type": "execute_result"
    }
   ],
   "source": [
    "df2 = df.copy()\n",
    "\n",
    "df2['E'] = ['one', 'one','two','three','four','three']\n",
    "\n",
    "df2"
   ]
  },
  {
   "cell_type": "code",
   "execution_count": 38,
   "metadata": {},
   "outputs": [
    {
     "data": {
      "text/html": [
       "<div>\n",
       "<style scoped>\n",
       "    .dataframe tbody tr th:only-of-type {\n",
       "        vertical-align: middle;\n",
       "    }\n",
       "\n",
       "    .dataframe tbody tr th {\n",
       "        vertical-align: top;\n",
       "    }\n",
       "\n",
       "    .dataframe thead th {\n",
       "        text-align: right;\n",
       "    }\n",
       "</style>\n",
       "<table border=\"1\" class=\"dataframe\">\n",
       "  <thead>\n",
       "    <tr style=\"text-align: right;\">\n",
       "      <th></th>\n",
       "      <th>A</th>\n",
       "      <th>B</th>\n",
       "      <th>C</th>\n",
       "      <th>D</th>\n",
       "      <th>E</th>\n",
       "    </tr>\n",
       "  </thead>\n",
       "  <tbody>\n",
       "    <tr>\n",
       "      <th>2013-01-03</th>\n",
       "      <td>-0.344072</td>\n",
       "      <td>-1.185725</td>\n",
       "      <td>0.242253</td>\n",
       "      <td>-0.716058</td>\n",
       "      <td>two</td>\n",
       "    </tr>\n",
       "    <tr>\n",
       "      <th>2013-01-05</th>\n",
       "      <td>3.074955</td>\n",
       "      <td>1.848873</td>\n",
       "      <td>1.848873</td>\n",
       "      <td>-0.795627</td>\n",
       "      <td>four</td>\n",
       "    </tr>\n",
       "  </tbody>\n",
       "</table>\n",
       "</div>"
      ],
      "text/plain": [
       "                   A         B         C         D     E\n",
       "2013-01-03 -0.344072 -1.185725  0.242253 -0.716058   two\n",
       "2013-01-05  3.074955  1.848873  1.848873 -0.795627  four"
      ]
     },
     "execution_count": 38,
     "metadata": {},
     "output_type": "execute_result"
    }
   ],
   "source": [
    "df2[df2[\"E\"].isin([\"two\", \"four\"])]  # 选择E列中值为two或four的行"
   ]
  }
 ],
 "metadata": {
  "kernelspec": {
   "display_name": "Python 3",
   "language": "python",
   "name": "python3"
  },
  "language_info": {
   "codemirror_mode": {
    "name": "ipython",
    "version": 3
   },
   "file_extension": ".py",
   "mimetype": "text/x-python",
   "name": "python",
   "nbconvert_exporter": "python",
   "pygments_lexer": "ipython3",
   "version": "3.12.4"
  }
 },
 "nbformat": 4,
 "nbformat_minor": 2
}
