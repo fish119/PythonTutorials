{
 "cells": [
  {
   "cell_type": "markdown",
   "metadata": {},
   "source": [
    "# 顺序执行\n",
    "Python代码在执行过程中，遵循下面的基本原则：\n",
    "\n",
    "- 普通语句，直接执行；\n",
    "- 碰到函数，将函数体载入内存，并不直接执行\n",
    "- 碰到类，执行类内部的普通语句，但是类的方法只载入，不执行\n",
    "- 碰到if、for等控制语句，按相应控制流程执行\n",
    "- 碰到@，break，continue等，按规定语法执行\n",
    "- 碰到函数、方法调用等，转而执行函数内部代码，执行完毕继续执行原有顺序代码\n",
    "\n",
    "代码略"
   ]
  },
  {
   "cell_type": "markdown",
   "metadata": {},
   "source": [
    "# 条件判断\n",
    "\n",
    "条件判断是通过一条或多条判断语句的执行结果（True或者False）来决定执行的代码块。\n",
    "\n",
    "在Python语法中，使用if、elif和else三个关键字来进行条件判断。\n",
    "\n",
    "代码略"
   ]
  },
  {
   "cell_type": "markdown",
   "metadata": {},
   "source": [
    "# 循环控制\n",
    "\n",
    "循环控制，就是让程序循环运行某一段代码直到满足退出的条件，才退出循环。\n",
    "\n",
    "Python用关键字for和while来进行循环控制，但是没有其它语言的do...while语句\n",
    "\n",
    "## while循环\n",
    "\n",
    "### 语法格式\n",
    "    while 条件表达式:\n",
    "        循环体\n",
    "\n",
    "### 控制结构图\n",
    "\n",
    "![while循环控制结构图](https://img2020.cnblogs.com/blog/1762677/202010/1762677-20201007160522720-1084826428.png)\n",
    "\n",
    "\n",
    "### 示例代码"
   ]
  },
  {
   "cell_type": "code",
   "execution_count": null,
   "metadata": {},
   "outputs": [],
   "source": [
    "n = 100\n",
    "sum = 0\n",
    "counter = 1\n",
    "while counter <= n:\n",
    "    sum = sum + counter\n",
    "    counter += 1\n",
    "\n",
    "print(\"1 到 %d 之和为: %d\" % (n,sum))\n",
    "\n",
    "# while的else从句：\n",
    "# 如果while循环正常结束，则执行else语句块；\n",
    "number = 10\n",
    "i = 0\n",
    "# i = 11\n",
    "while i < number:\n",
    "    print(i)\n",
    "    i += 1\n",
    "else:\n",
    "    print(\"执行完毕！\")\n",
    "    \n",
    "# 如果while循环被break终止，则不执行else语句块；\n",
    "number = 10\n",
    "i = 0\n",
    "while i < number:\n",
    "    print(i)\n",
    "    i += 1\n",
    "    if i == 7:\n",
    "        break           \n",
    "else:\n",
    "    print(\"执行完毕！\")"
   ]
  },
  {
   "cell_type": "markdown",
   "metadata": {},
   "source": [
    "## for循环\n",
    "虽然与while一样都是循环的关键字，但for循环通常用来遍历可迭代的对象，如一个列表或者一个字典。\n",
    "\n",
    "### 语法格式\n",
    "for <variable> in <sequence>:\n",
    "    <statements>\n",
    "\n",
    "### 示例"
   ]
  },
  {
   "cell_type": "code",
   "execution_count": null,
   "metadata": {},
   "outputs": [],
   "source": [
    "sum = 0\n",
    "for x in [1, 2, 3, 4, 5, 6, 7, 8, 9, 10]:\n",
    "    sum = sum + x\n",
    "print(sum)"
   ]
  },
  {
   "cell_type": "markdown",
   "metadata": {},
   "source": [
    "### for循环的else 子句\n",
    "\n",
    "与while一样，for循环也可以有else子句。同样是正常结束循环时，else子句执行。被中途break时，则不执行。\n",
    "\n",
    "### 循环的嵌套\n",
    "\n",
    "if判断可以嵌套，while和for当然也可以嵌套。但是建议大家不要嵌套3层以上，那样的效率会很低。下面是一个嵌套for循环结合else子句的例子："
   ]
  },
  {
   "cell_type": "code",
   "execution_count": null,
   "metadata": {},
   "outputs": [],
   "source": [
    "# 这是一个判断质数的程序\n",
    "for n in range(2, 100):\n",
    "    for x in range(2, n):\n",
    "        if n % x == 0:\n",
    "            print(n, '等于', x, '*', n//x)\n",
    "            break\n",
    "    else:\n",
    "        # 循环中没有找到元素\n",
    "        print(n, ' 是质数')"
   ]
  },
  {
   "cell_type": "markdown",
   "metadata": {},
   "source": [
    "## break语句\n",
    "如果想在循环过程中退出循环，用break语句\n",
    "\n",
    "**break只能用于循环体内。其效果是直接结束并退出当前循环，剩下的未循环的工作全部被忽略和取消。**\n",
    "**注意当前两个字，Python的break只能退出一层循环，对于多层嵌套循环，不能全部退出。**"
   ]
  },
  {
   "cell_type": "code",
   "execution_count": null,
   "metadata": {},
   "outputs": [],
   "source": [
    "for letter in 'Hello world':     # 第一个实例\n",
    "  if letter == 'o':\n",
    "    break\n",
    "  print ('当前字母为 :', letter)"
   ]
  },
  {
   "cell_type": "markdown",
   "metadata": {},
   "source": [
    "## continue语句\n",
    "与break不同，continue语句用于跳过当前循环的剩余部分代码，直接开始下一轮循环。它不会退出和终止循环，只是提前结束当前轮次的循环。同样的，continue语句只能用在循环内。"
   ]
  },
  {
   "cell_type": "code",
   "execution_count": null,
   "metadata": {},
   "outputs": [],
   "source": [
    "for letter in 'Hello world':     # 第一个实例\n",
    "  if letter == 'o':        # 字母为 o 时跳过输出\n",
    "    continue\n",
    "  print ('当前字母 :', letter)"
   ]
  }
 ],
 "metadata": {
  "kernelspec": {
   "display_name": "Python 3",
   "language": "python",
   "name": "python3"
  },
  "language_info": {
   "codemirror_mode": {
    "name": "ipython",
    "version": 3
   },
   "file_extension": ".py",
   "mimetype": "text/x-python",
   "name": "python",
   "nbconvert_exporter": "python",
   "pygments_lexer": "ipython3",
   "version": "3.12.4"
  }
 },
 "nbformat": 4,
 "nbformat_minor": 2
}
