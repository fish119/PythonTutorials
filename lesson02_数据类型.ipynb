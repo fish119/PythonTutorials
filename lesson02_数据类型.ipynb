{
 "cells": [
  {
   "cell_type": "markdown",
   "metadata": {},
   "source": [
    "# 数字类型\n",
    "略"
   ]
  },
  {
   "cell_type": "markdown",
   "metadata": {},
   "source": [
    "# 布尔类型\n",
    "略"
   ]
  },
  {
   "cell_type": "markdown",
   "metadata": {},
   "source": [
    "# 列表\n",
    "## 创建、访问、修改元素\n",
    "创建、访问、修改：略\n",
    "\n",
    "## 删除元素"
   ]
  },
  {
   "cell_type": "code",
   "execution_count": null,
   "metadata": {},
   "outputs": [],
   "source": [
    "lis = [\"a\", \"b\", \"c\"]\n",
    "\n",
    "# del方法删除元素\n",
    "del lis[1]\n",
    "print(lis)\n",
    "\n",
    "#remove方法删除元素\n",
    "lis.remove(\"c\")\n",
    "print(lis)\n",
    "\n",
    "#pop方法删除元素\n",
    "lis.pop(0)\n",
    "print(lis)\n"
   ]
  },
  {
   "cell_type": "markdown",
   "metadata": {},
   "source": [
    "## 列表的特殊操作\n",
    "+： 列表拼接\n",
    "*： 重复列表\n",
    "in： 判断元素是否在列表中\n",
    "not in： 判断元素是否不在列表中\n",
    "for： 遍历列表"
   ]
  },
  {
   "cell_type": "markdown",
   "metadata": {},
   "source": [
    "## 针对列表的常用函数\n",
    "\n",
    "1. len()函数：返回列表的长度\n",
    "2. max()函数：返回列表中的最大值\n",
    "3. min()函数：返回列表中的最小值\n",
    "4. sum()函数：返回列表中所有元素的和\n",
    "5. sorted()函数：对列表进行排序，并返回排序后的列表\n",
    "6. list()函数：将元组、字符串等其他数据类型转换为列表\n",
    "7. append()函数：在列表末尾添加元素\n",
    "8. extend()函数：在列表末尾添加多个元素\n",
    "9. insert()函数：在指定位置插入元素\n",
    "10. remove()函数：删除列表中第一个指定元素\n",
    "11. pop()函数：删除列表中指定位置的元素，并返回该元素的值\n",
    "12. clear()函数：清空列表\n",
    "13. index()函数：返回列表中指定元素的索引\n",
    "14. count()函数：返回列表中指定元素出现的次数\n",
    "15. reverse()函数：反转列表\n",
    "16. copy()函数：复制列表"
   ]
  },
  {
   "cell_type": "markdown",
   "metadata": {},
   "source": [
    "## 切片\n",
    "\n",
    "列表的切片操作可以从指定的起始位置开始，并从指定的长度截取出一段新的列表。\n",
    "\n",
    "语法：\n",
    "list[start:end:step]\n",
    "\n",
    "其中，start表示切片开始的位置，默认为0；end表示切片结束的位置，默认为列表的长度；step表示切片的步长，默认为1。\n",
    "区间是左闭右开的！也就是说[1:4]会截取列表的索引为1/2/3的3个元素，不会截取索引为4的元素\n",
    "\n",
    "示例："
   ]
  },
  {
   "cell_type": "code",
   "execution_count": null,
   "metadata": {},
   "outputs": [],
   "source": [
    "a = [1,2,3,4,5,6,7,8,9,10]\n",
    "#区间是左闭右开的！也就是说[1:4]会截取列表的索引为1/2/3的3个元素，不会截取索引为4的元素\n",
    "b = a[1:4]\n",
    "print(b)\n",
    "# 分片不会修改原有的列表，可以将结果保存到新的变量，因此切片也是一种安全操作，常被用来复制一个列表\n",
    "print(a)\n",
    "b = a[2:]\n",
    "print(b)\n",
    "b = a[:2]\n",
    "print(b)\n",
    "\n",
    "#如果提供的是负整数下标，则从列表的最后开始往头部查找。例如-1表示最后一个元素，-3表示倒数第三个元素。\n",
    "print(a[-1])\n",
    "print(a[-3])\n",
    "print(a[-8:-1]) #从索引为-8开始，到索引为-1结束，\n",
    "\n",
    "#切片过程中还可以设置步长，以第二个冒号分割，例如list[3:9:2]，表示每隔多少距离取一个元素\n",
    "c = a[3:9:2]\n",
    "print(c)\n",
    "d = a[-1:-8:-2] #从索引为4开始，到索引为1结束，步长为-2，即逆序。此时start索引必须大于stop索引\n",
    "print(d)"
   ]
  },
  {
   "cell_type": "markdown",
   "metadata": {},
   "source": [
    "## 多维列表（嵌套列表）\n",
    "列表可以嵌套列表，形成多维列表，形如矩阵。其元素的引用方法是list[i][j][k].....。当然，也可以嵌套别的数据类型。\n",
    "列："
   ]
  },
  {
   "cell_type": "code",
   "execution_count": null,
   "metadata": {},
   "outputs": [],
   "source": [
    "a = [[1,2,3],[4,5,6],[7,8,9],{\"k1\":\"v1\"}]\n",
    "print(a[3][\"k1\"])"
   ]
  },
  {
   "cell_type": "markdown",
   "metadata": {},
   "source": [
    "## 列表的遍历\n",
    "列表有好几种遍历方式"
   ]
  },
  {
   "cell_type": "code",
   "execution_count": null,
   "metadata": {},
   "outputs": [],
   "source": [
    "### 1. 遍历索引\n",
    "my_list = [1, 2, 3, 4, 5]\n",
    "for i in range(len(my_list)):    # 遍历索引\n",
    "  print(my_list[i])\n",
    "\n",
    "\n",
    "### 2. 遍历值\n",
    "my_list = [1, 2, 3, 4, 5]\n",
    "for value in my_list:    # 遍历值\n",
    "  print(value)\n",
    "\n",
    "### 3. 同时遍历索引和值\n",
    "my_list = [1, 2, 3, 4, 5]\n",
    "for i, value in enumerate(my_list):    # 同时遍历索引和值\n",
    "  print(i, value)"
   ]
  },
  {
   "cell_type": "markdown",
   "metadata": {},
   "source": [
    "## 列表的内置方法\n",
    "1. append()方法：在列表末尾添加一个元素\n",
    "2. clear()方法：清空列表中的所有元素\n",
    "3. copy()方法：复制列表\n",
    "4. count()方法：统计某个元素在列表中出现的次数\n",
    "5. extend()方法：在列表末尾一次性追加另一个序列中的多个值（用新列表扩展原列表）\n",
    "6. index()方法：查找某个元素在列表中首次出现的索引位置\n",
    "7. insert()方法：将指定对象插入列表的指定位置\n",
    "8. pop()方法：移除列表中的一个元素（默认最后一个元素），并且返回该元素的值\n",
    "9. remove()方法：移除列表中某个值的第一个匹配项\n",
    "10. reverse()方法：反转列表中元素的顺序\n",
    "11. sort()方法：对列表中的元素进行排序\n",
    "12. len()函数：返回列表的长度"
   ]
  },
  {
   "cell_type": "markdown",
   "metadata": {},
   "source": [
    "# 元组\n",
    "元组是另一种有序列表，但是元组是不可变的，这意味着一旦元组被创建，其中的元素就不能被修改。\n",
    "\n",
    "## 元组的应用场景：\n",
    "**些数据一旦创建之后就不允许修改了，这些数据就适合用元组来创建，比如主机地址和端口（ip，port），（\"192.168.1.1\"， 80），两者捆绑在一起，不允许修改。** \n",
    "所以元组经常在以下场景应用：\n",
    "1. 作为函数的返回值，可以返回多个值。\n",
    "2. 作为字典的键，可以作为字典的键。\n",
    "3. 作为集合的元素，可以作为集合的元素。\n",
    "4. 作为数据库的记录，可以作为数据库的记录。\n",
    "5. 作为文件或目录的路径，可以作为文件或目录的路径。\n",
    "6. 作为循环的计数器，可以作为循环的计数器。\n",
    "7. 作为排序的依据，可以作为排序的依据。\n",
    "\n",
    "## 元组与列表相同的操作：\n",
    "- 使用方括号加下标访问元素\n",
    "- 切片（形成新元组对象）\n",
    "- count()/index()\n",
    "- len()/max()/min()/tuple()\n",
    "\n",
    "## 元组中不允许的操作，确切的说是元组没有的功能：\n",
    "- 修改、新增元素\n",
    "- 删除某个元素（但可以删除整个元组）\n",
    "- 所有会对元组内部元素发生修改动作的方法。例如，元组没有remove，append，pop等方法。\n",
    "\n",
    "## 元组只保证它的一级子元素不可变，对于嵌套的元素内部，不保证不可变！\n",
    "**在使用元组的时候，请尽量使用数字、字符串和元组这种不可变的数据类型作为元组的元素，这样就能确保元组不发生变化。**"
   ]
  },
  {
   "cell_type": "markdown",
   "metadata": {},
   "source": [
    "# 字符串\n",
    "## TODO"
   ]
  },
  {
   "cell_type": "markdown",
   "metadata": {},
   "source": [
    "# 字典\n",
    "\n",
    "## 定义\n",
    "字典是一种无序的键值对集合，其中每个键值对用冒号分隔，键和值用逗号分隔。\n",
    "基本类似于：java中的Map<String, Object>，javascript中的json对象。\n",
    "\n",
    "## 注意事项\n",
    "1. **key必须是不可变的对象**：值的类型可以是任何数据类型！但是字典的key必须是不可变的对象，例如整数、字符串、bytes和元组，最常见的还是将字符串作为key。列表、字典、集合等就不可以作为key。\n",
    "\n",
    "2. **key必须唯一**：同一个字典内的key必须是唯一的，但值则不必。\n",
    "\n",
    "3. **字典是有序的，但依然是集合类型不是序列类型**：从Python3.6开始，字典是有序的！它将保持元素插入时的先后顺序！请务必清楚！ 但字典依然是集合类型，不是序列类型，因此没有索引下标的概念，更没有切片的说法。\n",
    "\n",
    "## 基本语法\n",
    "\n",
    "### 创建字典\n",
    "dict()函数是Python内置的创建字典的方法。\n"
   ]
  },
  {
   "cell_type": "code",
   "execution_count": null,
   "metadata": {},
   "outputs": [],
   "source": [
    "dic = {}    # 创建空字典\n",
    "dic = {'Alice': '2341', 'Beth': '9102', 'Cecil': '3258'}\n",
    "print(dic)    # 输出字典\n",
    "\n",
    "dict([('sape', 4139), ('guido', 4127), ('jack', 4098)])\n",
    "\n",
    "dict(sape=41391, guido=4127, jack=40981)\n"
   ]
  },
  {
   "cell_type": "markdown",
   "metadata": {},
   "source": [
    "### 访问字典\n",
    "\n",
    "虽然现在的字典在访问时有序了，但字典依然是集合类型，不是序列类型，因此没有索引下标的概念，更没有切片的说法。但与list类似的地方是，字典采用把相应的键放入方括号内获取对应值的方式取值。"
   ]
  },
  {
   "cell_type": "code",
   "execution_count": null,
   "metadata": {},
   "outputs": [],
   "source": [
    "# TODO:\n",
    "dic = {'Name': 'Jack','Age': 7, 'Class': 'First'}\n",
    "\n",
    "print (\"dic['Name']: \", dic['Name'])\n",
    "print (\"dic['Age']: \", dic['Age'])\n",
    "\n",
    "# 如果访问字典里没有的键，会抛出异常：\n",
    "dic[\"address\"]\n"
   ]
  },
  {
   "cell_type": "markdown",
   "metadata": {},
   "source": [
    "### 增加和修改\n",
    "\n",
    "增加就是往字典插入新的键值对，修改就是给原有的键赋予新的值。由于一个key只能对应一个值，所以，多次对一个key赋值，后面的值会把前面的值冲掉。"
   ]
  },
  {
   "cell_type": "code",
   "execution_count": null,
   "metadata": {},
   "outputs": [],
   "source": [
    "dic = {'Name': 'Jack','Age': 7, 'Class': 'First'}\n",
    "dic[\"address\"] = \"Shanghai\"\n",
    "dic[\"address\"] = \"Beijing\"\n",
    "dic[\"Age\"] = 18\n",
    "print(dic)\n",
    "\n",
    "# 要统计字典内键的个数，可以使用Python内置的len()函数：\n",
    "len(dic)"
   ]
  },
  {
   "cell_type": "markdown",
   "metadata": {},
   "source": [
    "### 删除字典元素、清空字典和删除字典\n",
    "\n",
    "使用del关键字删除字典元素或者字典本身，使用字典的clear()方法清空字典。"
   ]
  },
  {
   "cell_type": "code",
   "execution_count": null,
   "metadata": {},
   "outputs": [],
   "source": [
    "dic = {'Name': 'Jack', 'Age': '20', 'Class': 'First', 'sex': 'male'}\n",
    "print(dic)\n",
    "del dic['Name'] # 删除字典中的元素\n",
    "print(dic)\n",
    "\n",
    "# 清空字典\n",
    "dic.clear()         \n",
    "print(dic)\n",
    "\n",
    "# 删除字典本身\n",
    "del dic\n",
    "print(dic) # NameError: name 'dic' is not defined"
   ]
  },
  {
   "cell_type": "markdown",
   "metadata": {},
   "source": [
    "### 遍历字典\n",
    "**从Python3.6开始遍历字典获得的键值对是有序的！以下的遍历方法必须全部熟练掌握。**"
   ]
  },
  {
   "cell_type": "code",
   "execution_count": null,
   "metadata": {},
   "outputs": [],
   "source": [
    "dic = {'Name': 'Jack', 'Age': 7, 'Class': 'First'}\n",
    "\n",
    "# 1  直接遍历字典获取键，根据键取值\n",
    "for key in dic:\n",
    "    print(key, ':', dic[key])\n",
    "print(\"-----------\")\n",
    "\n",
    "# 2  遍历字典的items()方法，获取键值对。速度很慢，少用！\n",
    "for key, value in dic.items():\n",
    "    print(key, ':', value)\n",
    "print(\"-----------\")\n",
    "\n",
    "# 3  遍历字典的keys()方法，获取键。\n",
    "for key in dic.keys():\n",
    "    print(key)\n",
    "print(\"-----------\")\n",
    "\n",
    "# 4  遍历字典的values()方法，获取值。\n",
    "for value in dic.values():\n",
    "    print(value)  "
   ]
  },
  {
   "cell_type": "markdown",
   "metadata": {},
   "source": [
    "### 字典的重要方法\n",
    "下表中列出了字典的重要内置方法。其中的get、items、keys和values是核心中的核心，必须熟练掌握！\n",
    "\n",
    "| 方法 | 描述 |\n",
    "| --- | --- |\n",
    "| clear() | 删除字典内所有元素 |\n",
    "| copy() | 返回字典的浅复制 |\n",
    "| fromkeys(seq[, value]) | 创建一个新字典，以序列seq中的元素作为键，并将value作为值 |\n",
    "| get(key[, default]) | 返回指定键的值，如果值不存在，则返回default值 |\n",
    "| items() | 以列表返回可遍历的(键, 值) 元组数组 |\n",
    "| keys() | 以列表返回字典所有的键 |\n",
    "| pop(key[, default]) | 删除指定键并返回对应的值，如果值不存在，则返回default值 |\n",
    "| popitem() | 随机删除并返回字典中的一对键和值 |\n",
    "| setdefault(key[, default]) | 设置指定键的值，如果值不存在，则插入该键值对，并返回该值 |\n",
    "| update(other) | 更新字典，将other中的键值对添加到字典中 |\n",
    "| values() | 以列表返回字典中的所有值 |"
   ]
  },
  {
   "cell_type": "code",
   "execution_count": null,
   "metadata": {},
   "outputs": [],
   "source": [
    "dic = {'Name': 'Jack', 'Age': 7, 'Class': 'First'}\n",
    "dic.get('sex')  # 访问不存在的key，没有报错，但是IDLE不会显示None\n",
    "# dic['sex']      # 报错\n",
    "\n",
    "print(dic.items())\n",
    "print(dic.values())\n",
    "print(dic.keys())\n",
    "\n",
    "dic.pop('Name')\n",
    "print(dic)\n",
    "dic.popitem()\n",
    "print(dic)\n",
    "\n",
    "dic.setdefault('sex')\n",
    "dic"
   ]
  },
  {
   "cell_type": "markdown",
   "metadata": {},
   "source": [
    "# bytes类型\n",
    "\n",
    "bytes类型是二进制数据类型，可以存储任何二进制数据，比如图片、视频、音频、压缩文件等。\n",
    "要创建bytes类型的数据，需要使用bytes()函数。\n",
    "\n",
    "简单的省事模式：\n",
    "\n",
    "string = b'xxxxxx'.decode() 直接以默认的utf-8编码解码bytes成string\n",
    "\n",
    "b = string.encode() 直接以默认的utf-8编码string为bytes"
   ]
  },
  {
   "cell_type": "code",
   "execution_count": null,
   "metadata": {},
   "outputs": [],
   "source": [
    "b = b''         # 创建一个空的bytes\n",
    "b = bytes()      # 创建一个空的bytes\n",
    "b = b'hello'    #  直接指定这个hello是bytes类型\n",
    "b = bytes('string',encoding='utf-8')  #利用内置bytes方法，将字符串转换为指定编码的bytes\n",
    "b = str.encode('utf-8')   # 利用字符串的encode方法编码成bytes，默认为utf-8类型\n",
    "#bytes.decode('utf-8'):将bytes对象解码成字符串，默认使用utf-8进行解码。\n",
    "b.decode('utf-8')"
   ]
  },
  {
   "cell_type": "markdown",
   "metadata": {},
   "source": [
    "# 集合set\n",
    "\n",
    "集合是一组无序的、唯一的元素的集合。\n",
    "\n",
    "**集合数据类型的核心在于自动去重。很多时候，这能给你省不少事。**\n",
    "\n",
    "## 集合的基本操作"
   ]
  },
  {
   "cell_type": "code",
   "execution_count": null,
   "metadata": {},
   "outputs": [],
   "source": [
    "s = set([1,1,2,3,3,4])\n",
    "print(s)\n",
    "\n",
    "s = set(\"it is a nice day\")     # 对于字符串，集合会把它一个一个拆开，然后去重\n",
    "print(s)\n",
    "\n",
    "# 通过add(key)方法可以添加元素到set中，可以重复添加，但不会有效果\n",
    "s.add(5)\n",
    "s.add(5)\n",
    "print(s)\n",
    "\n",
    "# 可以通过update()方法，将另一个对象更新到已有的集合中，这一过程同样会进行去重。\n",
    "s.update(set([1,2,3]))\n",
    "print(s)\n",
    "\n",
    "# 通过remove()方法可以删除元素，如果元素不存在，会抛出KeyError异常\n",
    "s.remove(1)\n",
    "print(s)\n",
    "# s.remove(\"1\") #KeyError异常\n",
    "\n",
    "s.pop() #随机删除一个元素\n",
    "print(s)\n",
    "\n",
    "# 通过clear()方法可以清空集合\n",
    "s.clear()\n",
    "print(s)\n"
   ]
  },
  {
   "cell_type": "markdown",
   "metadata": {},
   "source": [
    "## 集合的数学操作\n",
    "\n",
    "集合的数学操作包括并集、交集、差集、对称差集。\n",
    "\n",
    "并集：求两个集合的并集，即所有元素的集合。  \n",
    "交集：求两个集合的交集，即共同拥有的元素的集合。  \n",
    "差集：求两个集合的差集，即第一个集合中有而第二个集合中没有的元素的集合。  \n",
    "对称差集：求两个集合的对称差集，即两个集合中都拥有的元素，但只有一个集合中拥有的元素的集合。"
   ]
  },
  {
   "cell_type": "code",
   "execution_count": null,
   "metadata": {},
   "outputs": [],
   "source": [
    "a = set('abracadabra')\n",
    "b = set('alacazam')\n",
    "print('a:',a)\n",
    "print('b:',b) \n",
    "print('并集：',a | b)  # 并集：在 a 或 b 中的字母\n",
    "print('交集：',a & b)  # 交集：同时在 a 和 b 中的字母\n",
    "print('差集：',a - b)  # 差集：在 a 中的字母，但不在 b 中\n",
    "print('对称差集：',a ^ b)  # 对称差集：在 a 或 b 中的字母，但不同时在 a 和 b 中\n"
   ]
  }
 ],
 "metadata": {
  "kernelspec": {
   "display_name": "Python 3",
   "language": "python",
   "name": "python3"
  },
  "language_info": {
   "codemirror_mode": {
    "name": "ipython",
    "version": 3
   },
   "file_extension": ".py",
   "mimetype": "text/x-python",
   "name": "python",
   "nbconvert_exporter": "python",
   "pygments_lexer": "ipython3",
   "version": "3.12.4"
  }
 },
 "nbformat": 4,
 "nbformat_minor": 2
}
