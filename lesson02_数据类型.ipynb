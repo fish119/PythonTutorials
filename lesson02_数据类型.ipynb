{
 "cells": [
  {
   "cell_type": "markdown",
   "metadata": {},
   "source": [
    "# 数字类型\n",
    "略"
   ]
  },
  {
   "cell_type": "markdown",
   "metadata": {},
   "source": [
    "# 布尔类型\n",
    "略"
   ]
  },
  {
   "cell_type": "markdown",
   "metadata": {},
   "source": [
    "# 列表\n",
    "## 创建、访问、修改元素\n",
    "创建、访问、修改：略\n",
    "\n",
    "## 删除元素"
   ]
  },
  {
   "cell_type": "code",
   "execution_count": 2,
   "metadata": {},
   "outputs": [
    {
     "name": "stdout",
     "output_type": "stream",
     "text": [
      "['a', 'c']\n",
      "['a']\n",
      "[]\n"
     ]
    }
   ],
   "source": [
    "lis = [\"a\", \"b\", \"c\"]\n",
    "\n",
    "# del方法删除元素\n",
    "del lis[1]\n",
    "print(lis)\n",
    "\n",
    "#remove方法删除元素\n",
    "lis.remove(\"c\")\n",
    "print(lis)\n",
    "\n",
    "#pop方法删除元素\n",
    "lis.pop(0)\n",
    "print(lis)\n"
   ]
  },
  {
   "cell_type": "markdown",
   "metadata": {},
   "source": [
    "## 列表的特殊操作\n",
    "+： 列表拼接\n",
    "*： 重复列表\n",
    "in： 判断元素是否在列表中\n",
    "not in： 判断元素是否不在列表中\n",
    "for： 遍历列表"
   ]
  },
  {
   "cell_type": "markdown",
   "metadata": {},
   "source": [
    "## 针对列表的常用函数\n",
    "\n",
    "1. len()函数：返回列表的长度\n",
    "2. max()函数：返回列表中的最大值\n",
    "3. min()函数：返回列表中的最小值\n",
    "4. sum()函数：返回列表中所有元素的和\n",
    "5. sorted()函数：对列表进行排序，并返回排序后的列表\n",
    "6. list()函数：将元组、字符串等其他数据类型转换为列表\n",
    "7. append()函数：在列表末尾添加元素\n",
    "8. extend()函数：在列表末尾添加多个元素\n",
    "9. insert()函数：在指定位置插入元素\n",
    "10. remove()函数：删除列表中第一个指定元素\n",
    "11. pop()函数：删除列表中指定位置的元素，并返回该元素的值\n",
    "12. clear()函数：清空列表\n",
    "13. index()函数：返回列表中指定元素的索引\n",
    "14. count()函数：返回列表中指定元素出现的次数\n",
    "15. reverse()函数：反转列表\n",
    "16. copy()函数：复制列表"
   ]
  },
  {
   "cell_type": "markdown",
   "metadata": {},
   "source": [
    "## 切片\n",
    "\n",
    "列表的切片操作可以从指定的起始位置开始，并从指定的长度截取出一段新的列表。\n",
    "\n",
    "语法：\n",
    "list[start:end:step]\n",
    "\n",
    "其中，start表示切片开始的位置，默认为0；end表示切片结束的位置，默认为列表的长度；step表示切片的步长，默认为1。\n",
    "区间是左闭右开的！也就是说[1:4]会截取列表的索引为1/2/3的3个元素，不会截取索引为4的元素\n",
    "\n",
    "示例："
   ]
  },
  {
   "cell_type": "code",
   "execution_count": 78,
   "metadata": {},
   "outputs": [
    {
     "name": "stdout",
     "output_type": "stream",
     "text": [
      "[2, 3, 4]\n",
      "[1, 2, 3, 4, 5, 6, 7, 8, 9, 10]\n",
      "[3, 4, 5, 6, 7, 8, 9, 10]\n",
      "[1, 2]\n",
      "10\n",
      "8\n",
      "[3, 4, 5, 6, 7, 8, 9]\n",
      "[4, 6, 8]\n",
      "[10, 8, 6, 4]\n"
     ]
    }
   ],
   "source": [
    "a = [1,2,3,4,5,6,7,8,9,10]\n",
    "#区间是左闭右开的！也就是说[1:4]会截取列表的索引为1/2/3的3个元素，不会截取索引为4的元素\n",
    "b = a[1:4]\n",
    "print(b)\n",
    "# 分片不会修改原有的列表，可以将结果保存到新的变量，因此切片也是一种安全操作，常被用来复制一个列表\n",
    "print(a)\n",
    "b = a[2:]\n",
    "print(b)\n",
    "b = a[:2]\n",
    "print(b)\n",
    "\n",
    "#如果提供的是负整数下标，则从列表的最后开始往头部查找。例如-1表示最后一个元素，-3表示倒数第三个元素。\n",
    "print(a[-1])\n",
    "print(a[-3])\n",
    "print(a[-8:-1]) #从索引为-8开始，到索引为-1结束，\n",
    "\n",
    "#切片过程中还可以设置步长，以第二个冒号分割，例如list[3:9:2]，表示每隔多少距离取一个元素\n",
    "c = a[3:9:2]\n",
    "print(c)\n",
    "d = a[-1:-8:-2] #从索引为4开始，到索引为1结束，步长为-2，即逆序。此时start索引必须大于stop索引\n",
    "print(d)"
   ]
  },
  {
   "cell_type": "markdown",
   "metadata": {},
   "source": [
    "## 多维列表（嵌套列表）\n",
    "列表可以嵌套列表，形成多维列表，形如矩阵。其元素的引用方法是list[i][j][k].....。当然，也可以嵌套别的数据类型。\n",
    "列："
   ]
  },
  {
   "cell_type": "code",
   "execution_count": 79,
   "metadata": {},
   "outputs": [
    {
     "name": "stdout",
     "output_type": "stream",
     "text": [
      "v1\n"
     ]
    }
   ],
   "source": [
    "a = [[1,2,3],[4,5,6],[7,8,9],{\"k1\":\"v1\"}]\n",
    "print(a[3][\"k1\"])"
   ]
  },
  {
   "cell_type": "markdown",
   "metadata": {},
   "source": [
    "## 列表的遍历\n",
    "列表有好几种遍历方式"
   ]
  },
  {
   "cell_type": "code",
   "execution_count": 80,
   "metadata": {},
   "outputs": [
    {
     "name": "stdout",
     "output_type": "stream",
     "text": [
      "1\n",
      "2\n",
      "3\n",
      "4\n",
      "5\n",
      "1\n",
      "2\n",
      "3\n",
      "4\n",
      "5\n",
      "0 1\n",
      "1 2\n",
      "2 3\n",
      "3 4\n",
      "4 5\n"
     ]
    }
   ],
   "source": [
    "### 1. 遍历索引\n",
    "my_list = [1, 2, 3, 4, 5]\n",
    "for i in range(len(my_list)):    # 遍历索引\n",
    "  print(my_list[i])\n",
    "\n",
    "\n",
    "### 2. 遍历值\n",
    "my_list = [1, 2, 3, 4, 5]\n",
    "for value in my_list:    # 遍历值\n",
    "  print(value)\n",
    "\n",
    "### 3. 同时遍历索引和值\n",
    "my_list = [1, 2, 3, 4, 5]\n",
    "for i, value in enumerate(my_list):    # 同时遍历索引和值\n",
    "  print(i, value)"
   ]
  },
  {
   "cell_type": "markdown",
   "metadata": {},
   "source": [
    "## 列表的内置方法\n",
    "1. append()方法：在列表末尾添加一个元素\n",
    "2. clear()方法：清空列表中的所有元素\n",
    "3. copy()方法：复制列表\n",
    "4. count()方法：统计某个元素在列表中出现的次数\n",
    "5. extend()方法：在列表末尾一次性追加另一个序列中的多个值（用新列表扩展原列表）\n",
    "6. index()方法：查找某个元素在列表中首次出现的索引位置\n",
    "7. insert()方法：将指定对象插入列表的指定位置\n",
    "8. pop()方法：移除列表中的一个元素（默认最后一个元素），并且返回该元素的值\n",
    "9. remove()方法：移除列表中某个值的第一个匹配项\n",
    "10. reverse()方法：反转列表中元素的顺序\n",
    "11. sort()方法：对列表中的元素进行排序\n",
    "12. len()函数：返回列表的长度"
   ]
  },
  {
   "cell_type": "markdown",
   "metadata": {},
   "source": [
    "# 元组\n",
    "元组是另一种有序列表，但是元组是不可变的，这意味着一旦元组被创建，其中的元素就不能被修改。\n",
    "\n",
    "## 元组的应用场景：\n",
    "**些数据一旦创建之后就不允许修改了，这些数据就适合用元组来创建，比如主机地址和端口（ip，port），（\"192.168.1.1\"， 80），两者捆绑在一起，不允许修改。** \n",
    "所以元组经常在以下场景应用：\n",
    "1. 作为函数的返回值，可以返回多个值。\n",
    "2. 作为字典的键，可以作为字典的键。\n",
    "3. 作为集合的元素，可以作为集合的元素。\n",
    "4. 作为数据库的记录，可以作为数据库的记录。\n",
    "5. 作为文件或目录的路径，可以作为文件或目录的路径。\n",
    "6. 作为循环的计数器，可以作为循环的计数器。\n",
    "7. 作为排序的依据，可以作为排序的依据。\n",
    "\n",
    "## 元组与列表相同的操作：\n",
    "- 使用方括号加下标访问元素\n",
    "- 切片（形成新元组对象）\n",
    "- count()/index()\n",
    "- len()/max()/min()/tuple()\n",
    "\n",
    "## 元组中不允许的操作，确切的说是元组没有的功能：\n",
    "- 修改、新增元素\n",
    "- 删除某个元素（但可以删除整个元组）\n",
    "- 所有会对元组内部元素发生修改动作的方法。例如，元组没有remove，append，pop等方法。\n",
    "\n",
    "## 元组只保证它的一级子元素不可变，对于嵌套的元素内部，不保证不可变！\n",
    "**在使用元组的时候，请尽量使用数字、字符串和元组这种不可变的数据类型作为元组的元素，这样就能确保元组不发生变化。**"
   ]
  },
  {
   "cell_type": "markdown",
   "metadata": {},
   "source": [
    "# 字符串\n",
    "## ToDo"
   ]
  },
  {
   "cell_type": "markdown",
   "metadata": {},
   "source": [
    "# 字典\n",
    "\n",
    "## 定义\n",
    "字典是一种无序的键值对集合，其中每个键值对用冒号分隔，键和值用逗号分隔。\n",
    "基本类似于：java中的Map<String, Object>，javascript中的json对象。\n",
    "\n",
    "## 注意事项\n",
    "1. **key必须是不可变的对象**：值的类型可以是任何数据类型！但是字典的key必须是不可变的对象，例如整数、字符串、bytes和元组，最常见的还是将字符串作为key。列表、字典、集合等就不可以作为key。\n",
    "\n",
    "2. **key必须唯一**：同一个字典内的key必须是唯一的，但值则不必。\n",
    "\n",
    "3. **字典是有序的，但依然是集合类型不是序列类型**：从Python3.6开始，字典是有序的！它将保持元素插入时的先后顺序！请务必清楚！ 但字典依然是集合类型，不是序列类型，因此没有索引下标的概念，更没有切片的说法。\n",
    "\n",
    "## 基本语法\n",
    "\n",
    "### 创建字典\n"
   ]
  },
  {
   "cell_type": "code",
   "execution_count": null,
   "metadata": {},
   "outputs": [],
   "source": [
    "#ToDo"
   ]
  },
  {
   "cell_type": "markdown",
   "metadata": {},
   "source": [
    "### 访问字典"
   ]
  },
  {
   "cell_type": "code",
   "execution_count": null,
   "metadata": {},
   "outputs": [],
   "source": [
    "#ToDo"
   ]
  },
  {
   "cell_type": "markdown",
   "metadata": {},
   "source": [
    "### 增加和修改"
   ]
  },
  {
   "cell_type": "code",
   "execution_count": null,
   "metadata": {},
   "outputs": [],
   "source": [
    "#ToDo"
   ]
  },
  {
   "cell_type": "markdown",
   "metadata": {},
   "source": [
    "### 删除字典元素、清空字典和删除字典"
   ]
  },
  {
   "cell_type": "code",
   "execution_count": null,
   "metadata": {},
   "outputs": [],
   "source": [
    "#ToDo"
   ]
  },
  {
   "cell_type": "markdown",
   "metadata": {},
   "source": [
    "### 遍历字典\n",
    "**从Python3.6开始遍历字典获得的键值对是有序的！以下的遍历方法必须全部熟练掌握。**"
   ]
  },
  {
   "cell_type": "code",
   "execution_count": null,
   "metadata": {},
   "outputs": [],
   "source": [
    "#ToDo"
   ]
  },
  {
   "cell_type": "markdown",
   "metadata": {},
   "source": [
    "### 字典的重要方法"
   ]
  },
  {
   "cell_type": "code",
   "execution_count": null,
   "metadata": {},
   "outputs": [],
   "source": [
    "#ToDo"
   ]
  }
 ],
 "metadata": {
  "kernelspec": {
   "display_name": "Python 3",
   "language": "python",
   "name": "python3"
  },
  "language_info": {
   "codemirror_mode": {
    "name": "ipython",
    "version": 3
   },
   "file_extension": ".py",
   "mimetype": "text/x-python",
   "name": "python",
   "nbconvert_exporter": "python",
   "pygments_lexer": "ipython3",
   "version": "3.12.4"
  }
 },
 "nbformat": 4,
 "nbformat_minor": 2
}
