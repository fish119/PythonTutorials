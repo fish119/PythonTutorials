{
 "cells": [
  {
   "cell_type": "markdown",
   "metadata": {},
   "source": [
    "# 核心思想\n",
    "递归最核心的思想是：每一次递归，整体问题都要比原来减小，并且递归到一定层次时，要能直接给出结果！\n",
    "\n",
    "# 基本步骤\n",
    "1. 初始化算法。递归程序通常需要一个开始时使用的种子值（seed value）。可以向函数传递参数，或者提供一个入口函数，这个函数是非递归的，但可以为递归计算设置种子值。\n",
    "2. 检查要处理的当前值是否已经与基线条件相匹配（base case）。如果匹配，则进行处理并返回值。\n",
    "3. 使用更小的或更简单的子问题（或多个子问题）来重新定义答案。\n",
    "4. 对子问题运行算法。\n",
    "5. 将结果合并入答案的表达式。\n",
    "6. 返回结果\n",
    "\n",
    "# 优缺点\n",
    "- 递归函数的优点是定义简单，代码量少，逻辑清晰。\n",
    "- 理论上，所有的递归函数都可以写成循环的方式，但循环的逻辑不如递归清晰。\n",
    "- 递归函数的缺点是容易陷入无限递归，栈溢出等问题。"
   ]
  },
  {
   "cell_type": "code",
   "execution_count": 2,
   "metadata": {},
   "outputs": [
    {
     "data": {
      "text/plain": [
       "5050"
      ]
     },
     "execution_count": 2,
     "metadata": {},
     "output_type": "execute_result"
    }
   ],
   "source": [
    "def sum_number(n):\n",
    "  if n <= 0:\n",
    "    return 0\n",
    "  return n+sum_number(n-1)\n",
    "\n",
    "sum_number(100)"
   ]
  },
  {
   "cell_type": "markdown",
   "metadata": {},
   "source": [
    "# 注意\n",
    "**使用递归函数需要注意防止递归深度溢出**\n",
    "\n",
    "在Python中，通常情况下，这个深度是1000层，超过将抛出异常。\n",
    "\n",
    "> 在计算机中，函数递归调用是通过栈（stack）这种数据结构实现的，每当进入一个递归时，栈就会加一层，每当函数返回一次，栈就会减一层。\n",
    "> 由于栈的大小不是无限的，所以，递归调用的次数过多，会导致栈溢出。"
   ]
  }
 ],
 "metadata": {
  "kernelspec": {
   "display_name": "Python 3",
   "language": "python",
   "name": "python3"
  },
  "language_info": {
   "codemirror_mode": {
    "name": "ipython",
    "version": 3
   },
   "file_extension": ".py",
   "mimetype": "text/x-python",
   "name": "python",
   "nbconvert_exporter": "python",
   "pygments_lexer": "ipython3",
   "version": "3.12.4"
  }
 },
 "nbformat": 4,
 "nbformat_minor": 2
}
