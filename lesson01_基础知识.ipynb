{
 "cells": [
  {
   "cell_type": "markdown",
   "metadata": {},
   "source": [
    "# 成员运算符（in   not in）\n",
    "成员运算符用于判断一个元素是否属于一个序列，语法格式如下：\n",
    "元素 in 序列\n",
    "元素 not in 序列\n",
    "其中，序列可以是列表、元组、字符串、字典等。\n",
    "例如："
   ]
  },
  {
   "cell_type": "code",
   "execution_count": 1,
   "metadata": {},
   "outputs": [
    {
     "name": "stdout",
     "output_type": "stream",
     "text": [
      "a is in the list\n"
     ]
    }
   ],
   "source": [
    "list = [1, 2, 3, 4, 5]\n",
    "a = 1\n",
    "if a in list:\n",
    "    print(\"a is in the list\")\n",
    "else:\n",
    "    print(\"a is not in the list\")"
   ]
  },
  {
   "cell_type": "markdown",
   "metadata": {},
   "source": [
    "# 身份运算符(is, is not)\n",
    "身份运算符用于比较两个对象的内存地址是否相同，即是否为同一个对象。\n",
    "语法：\n",
    "  is : 如果两个变量引用的是同一个对象，则返回 True，否则返回 False。  \n",
    "  is not : 如果两个变量引用的不是同一个对象，则返回 True，否则返回 False。\n",
    "示例：\n"
   ]
  },
  {
   "cell_type": "code",
   "execution_count": 2,
   "metadata": {},
   "outputs": [
    {
     "name": "stdout",
     "output_type": "stream",
     "text": [
      "140735986727640\n",
      "140735986727640\n",
      "140735986727640\n",
      "True\n",
      "True\n",
      "True\n",
      "False\n",
      "False\n"
     ]
    }
   ],
   "source": [
    "a = 10\n",
    "b = 10\n",
    "c = 'hello'\n",
    "d = 'hello'\n",
    "aa = a\n",
    "bb = b\n",
    "\n",
    "print(id(a))\n",
    "print(id(b))\n",
    "print(id(aa))\n",
    "\n",
    "print(a is b)  # True\n",
    "print(c is d)  # True\n",
    "print(a is aa)  \n",
    "\n",
    "print(a is not b)  # False\n",
    "print(c is not d)  # False"
   ]
  },
  {
   "cell_type": "markdown",
   "metadata": {},
   "source": [
    "# input输入函数\n",
    "## input函数：获取用户输入，保存成一个字符串，输入任何值都会返回一个字符串\n",
    "示例代码："
   ]
  },
  {
   "cell_type": "code",
   "execution_count": 3,
   "metadata": {},
   "outputs": [
    {
     "name": "stdout",
     "output_type": "stream",
     "text": [
      "You entered: 1\n",
      "False\n"
     ]
    }
   ],
   "source": [
    "inp = input(\"Enter a number: \")\n",
    "print(\"You entered:\", inp)\n",
    "type(inp)\n",
    "\n",
    "#数值转换\n",
    "inp = int(inp)\n",
    "print(inp>1)"
   ]
  },
  {
   "cell_type": "markdown",
   "metadata": {},
   "source": [
    "## 去除空格"
   ]
  },
  {
   "cell_type": "code",
   "execution_count": 4,
   "metadata": {},
   "outputs": [
    {
     "name": "stdout",
     "output_type": "stream",
     "text": [
      "a   b   c  \n",
      "  a   b   c\n",
      "a   b   c\n"
     ]
    }
   ],
   "source": [
    "inp = \"  a   b   c  \"\n",
    "inp_lstrip = inp.lstrip()\n",
    "print(inp_lstrip)\n",
    "inp_rstrip = inp.rstrip()\n",
    "print(inp_rstrip)\n",
    "inp_strip = inp.strip()\n",
    "print(inp_strip)"
   ]
  },
  {
   "cell_type": "markdown",
   "metadata": {},
   "source": [
    "## 判断输入的字符类型"
   ]
  },
  {
   "cell_type": "code",
   "execution_count": 5,
   "metadata": {},
   "outputs": [
    {
     "name": "stdout",
     "output_type": "stream",
     "text": [
      "你的年龄是：  22\n"
     ]
    }
   ],
   "source": [
    "age = input(\"请输入你的年龄：  \")\n",
    "\n",
    "if age.isdigit():   # 使用isdigit函数判断输入是否全是数字格式\n",
    "    age = int(age)   # 将字符串转化为整数\n",
    "    print(\"你的年龄是： \", age)\n",
    "else:\n",
    "    print(\"输入不合法！\")"
   ]
  },
  {
   "cell_type": "markdown",
   "metadata": {},
   "source": [
    "# print输出函数\n",
    "\n",
    "## 参数\n",
    "sep参数: 分隔的符号，默认是一个空格；\n",
    "end参数: 打印后的结束方式，默认为换行符\\n。如果，设置end=''，则可以不换行，让print在一行内连续打印。活用print的参数，可以实现灵活的打印控制。"
   ]
  },
  {
   "cell_type": "code",
   "execution_count": 6,
   "metadata": {},
   "outputs": [
    {
     "name": "stdout",
     "output_type": "stream",
     "text": [
      "i am*a*student\n"
     ]
    }
   ],
   "source": [
    "a = \"i am\"\n",
    "b = \"student\"\n",
    "print(a,\"a\" , b, sep=\"*\")"
   ]
  },
  {
   "cell_type": "markdown",
   "metadata": {},
   "source": [
    "## print格式化输出"
   ]
  },
  {
   "cell_type": "code",
   "execution_count": 7,
   "metadata": {},
   "outputs": [
    {
     "name": "stdout",
     "output_type": "stream",
     "text": [
      "我叫 小明 今年 10 岁!\n"
     ]
    }
   ],
   "source": [
    "print (\"我叫 %s 今年 %d 岁!\" % ('小明', 10))"
   ]
  }
 ],
 "metadata": {
  "kernelspec": {
   "display_name": "Python 3",
   "language": "python",
   "name": "python3"
  },
  "language_info": {
   "codemirror_mode": {
    "name": "ipython",
    "version": 3
   },
   "file_extension": ".py",
   "mimetype": "text/x-python",
   "name": "python",
   "nbconvert_exporter": "python",
   "pygments_lexer": "ipython3",
   "version": "3.12.4"
  }
 },
 "nbformat": 4,
 "nbformat_minor": 2
}
